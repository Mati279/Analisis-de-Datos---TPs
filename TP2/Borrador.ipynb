{
 "cells": [
  {
   "cell_type": "code",
   "execution_count": null,
   "id": "3d9da0fc",
   "metadata": {},
   "outputs": [],
   "source": [
    "import pandas as pd\n",
    "import numpy as np\n",
    "import matplotlib.pyplot as plt\n",
    "import seaborn as sns\n",
    "import json\n",
    "from sklearn.pipeline import Pipeline\n",
    "from sklearn.compose import ColumnTransformer\n",
    "from sklearn.preprocessing import StandardScaler, OneHotEncoder, QuantileTransformer, OrdinalEncoder, FunctionTransformer\n",
    "from sklearn.impute import SimpleImputer\n",
    "from sklearn.feature_selection import SelectKBest, f_classif, mutual_info_classif\n",
    "from sklearn.decomposition import PCA\n",
    "from pandas.api.types import CategoricalDtype"
   ]
  },
  {
   "cell_type": "code",
   "execution_count": 16,
   "id": "a616dfb7",
   "metadata": {},
   "outputs": [
    {
     "data": {
      "application/vnd.microsoft.datawrangler.viewer.v0+json": {
       "columns": [
        {
         "name": "index",
         "rawType": "int64",
         "type": "integer"
        },
        {
         "name": "Estación",
         "rawType": "object",
         "type": "string"
        },
        {
         "name": "Mes",
         "rawType": "object",
         "type": "string"
        },
        {
         "name": "Precipitación",
         "rawType": "float64",
         "type": "float"
        },
        {
         "name": "Prec. > a 1.0 mm",
         "rawType": "float64",
         "type": "float"
        },
        {
         "name": "Humedad relativa",
         "rawType": "float64",
         "type": "float"
        },
        {
         "name": "Nubosidad total",
         "rawType": "float64",
         "type": "float"
        },
        {
         "name": "Viento",
         "rawType": "float64",
         "type": "float"
        },
        {
         "name": "Temperatura",
         "rawType": "float64",
         "type": "float"
        },
        {
         "name": "Temperatura Máx.",
         "rawType": "float64",
         "type": "float"
        },
        {
         "name": "Temperatura Mín.",
         "rawType": "float64",
         "type": "float"
        },
        {
         "name": "Viento_medido",
         "rawType": "bool",
         "type": "boolean"
        }
       ],
       "ref": "64bdd89e-32ff-4ff2-83a1-ce848d7dc840",
       "rows": [
        [
         "0",
         "AEROPARQUE AERO",
         "Abr",
         "108.3",
         "6.6",
         "73.6",
         "3.5",
         "13.9",
         "18.5",
         "22.0",
         "15.3",
         "True"
        ],
        [
         "1",
         "AEROPARQUE AERO",
         "Ago",
         "61.5",
         "5.0",
         "73.6",
         "3.9",
         "14.0",
         "12.9",
         "16.5",
         "9.7",
         "True"
        ],
        [
         "2",
         "AEROPARQUE AERO",
         "Dic",
         "112.8",
         "6.6",
         "65.1",
         "3.2",
         "15.9",
         "23.2",
         "27.4",
         "19.2",
         "True"
        ],
        [
         "3",
         "AEROPARQUE AERO",
         "Ene",
         "117.5",
         "6.7",
         "67.0",
         "3.1",
         "16.8",
         "24.5",
         "28.4",
         "20.8",
         "True"
        ],
        [
         "4",
         "AEROPARQUE AERO",
         "Feb",
         "112.3",
         "6.0",
         "69.8",
         "3.2",
         "15.8",
         "23.7",
         "27.3",
         "20.2",
         "True"
        ]
       ],
       "shape": {
        "columns": 11,
        "rows": 5
       }
      },
      "text/html": [
       "<div>\n",
       "<style scoped>\n",
       "    .dataframe tbody tr th:only-of-type {\n",
       "        vertical-align: middle;\n",
       "    }\n",
       "\n",
       "    .dataframe tbody tr th {\n",
       "        vertical-align: top;\n",
       "    }\n",
       "\n",
       "    .dataframe thead th {\n",
       "        text-align: right;\n",
       "    }\n",
       "</style>\n",
       "<table border=\"1\" class=\"dataframe\">\n",
       "  <thead>\n",
       "    <tr style=\"text-align: right;\">\n",
       "      <th></th>\n",
       "      <th>Estación</th>\n",
       "      <th>Mes</th>\n",
       "      <th>Precipitación</th>\n",
       "      <th>Prec. &gt; a 1.0 mm</th>\n",
       "      <th>Humedad relativa</th>\n",
       "      <th>Nubosidad total</th>\n",
       "      <th>Viento</th>\n",
       "      <th>Temperatura</th>\n",
       "      <th>Temperatura Máx.</th>\n",
       "      <th>Temperatura Mín.</th>\n",
       "      <th>Viento_medido</th>\n",
       "    </tr>\n",
       "  </thead>\n",
       "  <tbody>\n",
       "    <tr>\n",
       "      <th>0</th>\n",
       "      <td>AEROPARQUE AERO</td>\n",
       "      <td>Abr</td>\n",
       "      <td>108.3</td>\n",
       "      <td>6.6</td>\n",
       "      <td>73.6</td>\n",
       "      <td>3.5</td>\n",
       "      <td>13.9</td>\n",
       "      <td>18.5</td>\n",
       "      <td>22.0</td>\n",
       "      <td>15.3</td>\n",
       "      <td>True</td>\n",
       "    </tr>\n",
       "    <tr>\n",
       "      <th>1</th>\n",
       "      <td>AEROPARQUE AERO</td>\n",
       "      <td>Ago</td>\n",
       "      <td>61.5</td>\n",
       "      <td>5.0</td>\n",
       "      <td>73.6</td>\n",
       "      <td>3.9</td>\n",
       "      <td>14.0</td>\n",
       "      <td>12.9</td>\n",
       "      <td>16.5</td>\n",
       "      <td>9.7</td>\n",
       "      <td>True</td>\n",
       "    </tr>\n",
       "    <tr>\n",
       "      <th>2</th>\n",
       "      <td>AEROPARQUE AERO</td>\n",
       "      <td>Dic</td>\n",
       "      <td>112.8</td>\n",
       "      <td>6.6</td>\n",
       "      <td>65.1</td>\n",
       "      <td>3.2</td>\n",
       "      <td>15.9</td>\n",
       "      <td>23.2</td>\n",
       "      <td>27.4</td>\n",
       "      <td>19.2</td>\n",
       "      <td>True</td>\n",
       "    </tr>\n",
       "    <tr>\n",
       "      <th>3</th>\n",
       "      <td>AEROPARQUE AERO</td>\n",
       "      <td>Ene</td>\n",
       "      <td>117.5</td>\n",
       "      <td>6.7</td>\n",
       "      <td>67.0</td>\n",
       "      <td>3.1</td>\n",
       "      <td>16.8</td>\n",
       "      <td>24.5</td>\n",
       "      <td>28.4</td>\n",
       "      <td>20.8</td>\n",
       "      <td>True</td>\n",
       "    </tr>\n",
       "    <tr>\n",
       "      <th>4</th>\n",
       "      <td>AEROPARQUE AERO</td>\n",
       "      <td>Feb</td>\n",
       "      <td>112.3</td>\n",
       "      <td>6.0</td>\n",
       "      <td>69.8</td>\n",
       "      <td>3.2</td>\n",
       "      <td>15.8</td>\n",
       "      <td>23.7</td>\n",
       "      <td>27.3</td>\n",
       "      <td>20.2</td>\n",
       "      <td>True</td>\n",
       "    </tr>\n",
       "  </tbody>\n",
       "</table>\n",
       "</div>"
      ],
      "text/plain": [
       "          Estación  Mes  Precipitación  Prec. > a 1.0 mm  Humedad relativa  \\\n",
       "0  AEROPARQUE AERO  Abr          108.3               6.6              73.6   \n",
       "1  AEROPARQUE AERO  Ago           61.5               5.0              73.6   \n",
       "2  AEROPARQUE AERO  Dic          112.8               6.6              65.1   \n",
       "3  AEROPARQUE AERO  Ene          117.5               6.7              67.0   \n",
       "4  AEROPARQUE AERO  Feb          112.3               6.0              69.8   \n",
       "\n",
       "   Nubosidad total  Viento  Temperatura  Temperatura Máx.  Temperatura Mín.  \\\n",
       "0              3.5    13.9         18.5              22.0              15.3   \n",
       "1              3.9    14.0         12.9              16.5               9.7   \n",
       "2              3.2    15.9         23.2              27.4              19.2   \n",
       "3              3.1    16.8         24.5              28.4              20.8   \n",
       "4              3.2    15.8         23.7              27.3              20.2   \n",
       "\n",
       "   Viento_medido  \n",
       "0           True  \n",
       "1           True  \n",
       "2           True  \n",
       "3           True  \n",
       "4           True  "
      ]
     },
     "execution_count": 16,
     "metadata": {},
     "output_type": "execute_result"
    }
   ],
   "source": [
    "# Leer el JSON\n",
    "df_91_20 = pd.read_json('df_91_20.json', orient='records', lines=True)\n",
    "df_91_20.head()"
   ]
  },
  {
   "cell_type": "markdown",
   "id": "8c22fba0",
   "metadata": {},
   "source": [
    "---\n",
    "## Variable Target\n",
    "\n",
    "Para abordar el problema como una tarea de clasificación,consideraremos la temperatura media anual de cada estación, representada por la variable 'Temperatura'. A partir de su valor crearemos una variable categórica que represente el clima de cada estación y que será la variable target:\n",
    "\n",
    "Frías: promedio menor a 10 °C\n",
    "\n",
    "Templadas frescas: entre 10 °C y 15 °C\n",
    "\n",
    "Templadas cálidas: entre 15 °C y 20 °C\n",
    "\n",
    "Cálidas: promedio mayor a 20 °C\n",
    "\n",
    "Esta clasificación busca representar de manera más precisa la variabilidad climática del país. A continuación, se agruparon las observaciones por estación y se asignó una etiqueta a cada una según el promedio de temperatura."
   ]
  },
  {
   "cell_type": "code",
   "execution_count": null,
   "id": "335c1ac8",
   "metadata": {},
   "outputs": [],
   "source": [
    "# Agrupamos por estación y calculamos el promedio de temperatura de cada una considerando todos los meses y años\n",
    "df_temperatura_estacion = df_91_20.groupby(\"Estación\")[\"Temperatura\"].mean().reset_index()\n",
    "\n",
    "# Creamos la variable target\n",
    "\n",
    "def clasificar_temp(temperatura):\n",
    "    if temperatura < 10:\n",
    "        return \"fría\"\n",
    "    elif temperatura < 15:\n",
    "        return \"templada fresca\"\n",
    "    elif temperatura < 20:\n",
    "        return \"templada cálida\"\n",
    "    else:\n",
    "        return \"cálida\"\n",
    "\n",
    "df_temperatura_estacion[\"CLASE\"] = df_temperatura_estacion[\"Temperatura\"].apply(clasificar_temp)\n",
    "\n",
    "# Agregamos por estación todas las variables numéricas\n",
    "df_agregado = df_91_20.groupby(\"Estación\").mean(numeric_only=True).reset_index()\n",
    "\n",
    "# Mergeamos con las clases y eliminamos columnas de temperatura y el booleano de \"viento_medido\". \n",
    "# También eliminamos la columna \"Estación\" porque los nombres de las estaciones no son relevantes para el modelo.\n",
    "df_final = pd.merge(df_agregado, df_temperatura_estacion[[\"Estación\", \"CLASE\"]], on=\"Estación\")\n",
    "df_final = df_final.drop(columns=[\"Temperatura\", \"Temperatura Máx.\", \"Temperatura Mín.\", \"Viento_medido\", \"Estación\"])"
   ]
  },
  {
   "cell_type": "code",
   "execution_count": 30,
   "id": "045ea300",
   "metadata": {},
   "outputs": [
    {
     "name": "stdout",
     "output_type": "stream",
     "text": [
      "CLASE\n",
      "templada cálida    50\n",
      "templada fresca    19\n",
      "fría               15\n",
      "cálida             14\n",
      "Name: count, dtype: int64\n"
     ]
    },
    {
     "data": {
      "application/vnd.microsoft.datawrangler.viewer.v0+json": {
       "columns": [
        {
         "name": "index",
         "rawType": "int64",
         "type": "integer"
        },
        {
         "name": "Precipitación",
         "rawType": "float64",
         "type": "float"
        },
        {
         "name": "Prec. > a 1.0 mm",
         "rawType": "float64",
         "type": "float"
        },
        {
         "name": "Humedad relativa",
         "rawType": "float64",
         "type": "float"
        },
        {
         "name": "Nubosidad total",
         "rawType": "float64",
         "type": "float"
        },
        {
         "name": "Viento",
         "rawType": "float64",
         "type": "float"
        },
        {
         "name": "CLASE",
         "rawType": "object",
         "type": "string"
        }
       ],
       "ref": "8833f2e3-0feb-40fe-b727-498271635332",
       "rows": [
        [
         "0",
         "92.24166666666667",
         "5.925",
         "71.44166666666666",
         "3.625",
         "15.041666666666666",
         "templada cálida"
        ],
        [
         "1",
         "77.95833333333333",
         "5.558333333333334",
         "74.10000000000001",
         "3.733333333333333",
         null,
         "templada fresca"
        ],
        [
         "2",
         "53.25833333333333",
         "4.9750000000000005",
         "64.64166666666667",
         "3.5749999999999997",
         "18.224999999999998",
         "templada cálida"
        ],
        [
         "3",
         "67.70833333333333",
         "6.816666666666666",
         "65.01666666666667",
         "4.008333333333334",
         "19.55",
         "fría"
        ],
        [
         "4",
         "68.27770726930834",
         "5.099356970783333",
         "68.061129814175",
         "4.608333333333333",
         null,
         "fría"
        ]
       ],
       "shape": {
        "columns": 6,
        "rows": 5
       }
      },
      "text/html": [
       "<div>\n",
       "<style scoped>\n",
       "    .dataframe tbody tr th:only-of-type {\n",
       "        vertical-align: middle;\n",
       "    }\n",
       "\n",
       "    .dataframe tbody tr th {\n",
       "        vertical-align: top;\n",
       "    }\n",
       "\n",
       "    .dataframe thead th {\n",
       "        text-align: right;\n",
       "    }\n",
       "</style>\n",
       "<table border=\"1\" class=\"dataframe\">\n",
       "  <thead>\n",
       "    <tr style=\"text-align: right;\">\n",
       "      <th></th>\n",
       "      <th>Precipitación</th>\n",
       "      <th>Prec. &gt; a 1.0 mm</th>\n",
       "      <th>Humedad relativa</th>\n",
       "      <th>Nubosidad total</th>\n",
       "      <th>Viento</th>\n",
       "      <th>CLASE</th>\n",
       "    </tr>\n",
       "  </thead>\n",
       "  <tbody>\n",
       "    <tr>\n",
       "      <th>0</th>\n",
       "      <td>92.241667</td>\n",
       "      <td>5.925000</td>\n",
       "      <td>71.441667</td>\n",
       "      <td>3.625000</td>\n",
       "      <td>15.041667</td>\n",
       "      <td>templada cálida</td>\n",
       "    </tr>\n",
       "    <tr>\n",
       "      <th>1</th>\n",
       "      <td>77.958333</td>\n",
       "      <td>5.558333</td>\n",
       "      <td>74.100000</td>\n",
       "      <td>3.733333</td>\n",
       "      <td>NaN</td>\n",
       "      <td>templada fresca</td>\n",
       "    </tr>\n",
       "    <tr>\n",
       "      <th>2</th>\n",
       "      <td>53.258333</td>\n",
       "      <td>4.975000</td>\n",
       "      <td>64.641667</td>\n",
       "      <td>3.575000</td>\n",
       "      <td>18.225000</td>\n",
       "      <td>templada cálida</td>\n",
       "    </tr>\n",
       "    <tr>\n",
       "      <th>3</th>\n",
       "      <td>67.708333</td>\n",
       "      <td>6.816667</td>\n",
       "      <td>65.016667</td>\n",
       "      <td>4.008333</td>\n",
       "      <td>19.550000</td>\n",
       "      <td>fría</td>\n",
       "    </tr>\n",
       "    <tr>\n",
       "      <th>4</th>\n",
       "      <td>68.277707</td>\n",
       "      <td>5.099357</td>\n",
       "      <td>68.061130</td>\n",
       "      <td>4.608333</td>\n",
       "      <td>NaN</td>\n",
       "      <td>fría</td>\n",
       "    </tr>\n",
       "  </tbody>\n",
       "</table>\n",
       "</div>"
      ],
      "text/plain": [
       "   Precipitación  Prec. > a 1.0 mm  Humedad relativa  Nubosidad total  \\\n",
       "0      92.241667          5.925000         71.441667         3.625000   \n",
       "1      77.958333          5.558333         74.100000         3.733333   \n",
       "2      53.258333          4.975000         64.641667         3.575000   \n",
       "3      67.708333          6.816667         65.016667         4.008333   \n",
       "4      68.277707          5.099357         68.061130         4.608333   \n",
       "\n",
       "      Viento            CLASE  \n",
       "0  15.041667  templada cálida  \n",
       "1        NaN  templada fresca  \n",
       "2  18.225000  templada cálida  \n",
       "3  19.550000             fría  \n",
       "4        NaN             fría  "
      ]
     },
     "execution_count": 30,
     "metadata": {},
     "output_type": "execute_result"
    }
   ],
   "source": [
    "print(df_final[\"CLASE\"].value_counts())\n",
    "df_final.head(5)"
   ]
  },
  {
   "cell_type": "markdown",
   "id": "7f1ab91c",
   "metadata": {},
   "source": [
    "Ahora tenemos el df_final con todos los parámetros que pueden ser relevantes para la predicción y las etiquetas generadas al crear la variable target. Todas las variables resultan ser de tipo numéricas."
   ]
  },
  {
   "cell_type": "markdown",
   "id": "2ae5e851",
   "metadata": {},
   "source": [
    "---\n",
    "## Desbalance de clases\n",
    "\n",
    "Se nota un fuerte desbalance de clases siendo la clase \"templada cálida\" fuertemente predominante. Este desbalance puede afectar negativamente la capacidad del modelo para aprender patrones representativos de las clases minoritarias y esto puede llevar a modelos sesgados o con bajo poder predictivo. Graficamos para mayor claridad: "
   ]
  },
  {
   "cell_type": "code",
   "execution_count": 31,
   "id": "307e0748",
   "metadata": {},
   "outputs": [
    {
     "data": {
      "image/png": "[encoded data removed]",
      "text/plain": [
       "<Figure size 640x480 with 1 Axes>"
      ]
     },
     "metadata": {},
     "output_type": "display_data"
    }
   ],
   "source": [
    "sns.countplot(data=df_temperatura_estacion, x=\"CLASE\", hue=\"CLASE\", palette=\"coolwarm\", legend=False)\n",
    "plt.title(\"Distribución de clases por estación\")\n",
    "plt.xlabel(\"Clase térmica\")\n",
    "plt.ylabel(\"Cantidad de estaciones\")\n",
    "plt.show()"
   ]
  },
  {
   "cell_type": "markdown",
   "id": "eaaccaf9",
   "metadata": {},
   "source": [
    "Para corregir este sobremuestreo elegimos aplicar sobremuestreo con SMOTE a las clases minoritarias en lugar de un submuestreo de la clase mayoritaria ya que nos permite conservar mayor cantidad de datos y ayuda a evitar el overfitting. \n",
    "\n",
    "Primero imputamos los valores faltantes y transformamos las variables categóricas en los pipelines."
   ]
  },
  {
   "cell_type": "code",
   "execution_count": 34,
   "id": "761e1002",
   "metadata": {},
   "outputs": [
    {
     "name": "stdout",
     "output_type": "stream",
     "text": [
      "CLASE\n",
      "templada cálida    40\n",
      "fría               40\n",
      "cálida             40\n",
      "templada fresca    40\n",
      "Name: count, dtype: int64\n"
     ]
    }
   ],
   "source": [
    "from imblearn.over_sampling import SMOTE\n",
    "from sklearn.model_selection import train_test_split\n",
    "\n",
    "# Definimos variables numéricas excluyendo las variables de temperatura (target implícito)\n",
    "numericas = df_final.select_dtypes(include='number').columns.tolist()\n",
    "\n",
    "# Pipelines para imputación y encoding\n",
    "numeric_pipeline = Pipeline([\n",
    "    (\"imputer\", SimpleImputer(strategy=\"mean\")),\n",
    "    (\"scaler\", StandardScaler())\n",
    "])\n",
    "\n",
    "categorical_pipeline = Pipeline([\n",
    "    (\"imputer\", SimpleImputer(strategy=\"most_frequent\")),\n",
    "    (\"encoder\", OneHotEncoder(handle_unknown='ignore'))\n",
    "])\n",
    "\n",
    "# ColumnTransformer para las variables numéricas\n",
    "preprocessor = ColumnTransformer([\n",
    "    (\"num\", numeric_pipeline, numericas)\n",
    "])\n",
    "\n",
    "# Dividimos el dataset antes del preprocesamiento para evitar el data leakage\n",
    "X = df_final.drop(columns=[\"CLASE\"])\n",
    "y = df_final[\"CLASE\"]\n",
    "\n",
    "X_train, X_test, y_train, y_test = train_test_split(\n",
    "    X, y, test_size=0.2, random_state=42, stratify=y\n",
    ")\n",
    "\n",
    "# Ajustamos sólo con el set de entrenamiento\n",
    "preprocessor.fit(X_train)\n",
    "\n",
    "# Obtenemos los nombres de los features transformados\n",
    "feature_names = preprocessor.get_feature_names_out()\n",
    "\n",
    "#Transformamos\n",
    "X_train_prep = preprocessor.transform(X_train)\n",
    "X_test_prep = preprocessor.transform(X_test)\n",
    "\n",
    "# SMOTE sobre el set de entrenamiento\n",
    "smote = SMOTE(random_state=42)\n",
    "X_train_res, y_train_res = smote.fit_resample(X_train_prep, y_train)\n",
    "\n",
    "print(y_train_res.value_counts())"
   ]
  },
  {
   "cell_type": "markdown",
   "id": "5b742cd9",
   "metadata": {},
   "source": [
    "Luego de aplicar SMOTE sobre el set de entrenamiento vemos que ahora se logró una distribución balanceada de clases (40 estaciones cada una), esto proporciona una buena base para el posterior entrenamiento del modelo. Nótese que en lugar de obtener 50 estaciones por clase, al haber hecho la división de 80/20 antes de SMOTE la clase mayoritaria pasó a tener 40 ítems, eso explica este número para las demás clases.\n",
    "\n",
    " "
   ]
  },
  {
   "cell_type": "markdown",
   "id": "2017da54",
   "metadata": {},
   "source": [
    "--- \n",
    "## Análisis y selección de features\n",
    "\n",
    "Ahora vamos a identificar qué variables son más relevantes para predecir la variable target dado que ya tenemos el set X_train_res (balanceado y preprocesado) y y_train_res.\n",
    "\n",
    "Para evaluar la relevancia de los atributos predictivos respecto a la variable objetivo CLASE, vamos a aplicar ANOVA y Información Mutua. \n",
    "\n",
    "**ANOVA**"
   ]
  },
  {
   "cell_type": "code",
   "execution_count": 37,
   "id": "b63b4444",
   "metadata": {},
   "outputs": [
    {
     "name": "stderr",
     "output_type": "stream",
     "text": [
      "C:\\Users\\matim\\AppData\\Local\\Temp\\ipykernel_9384\\2623732123.py:15: FutureWarning: \n",
      "\n",
      "Passing `palette` without assigning `hue` is deprecated and will be removed in v0.14.0. Assign the `y` variable to `hue` and set `legend=False` for the same effect.\n",
      "\n",
      "  sns.barplot(data=df_anova, x=\"ANOVA\", y=\"Feature\", palette=\"Blues_d\")\n"
     ]
    },
    {
     "data": {
      "image/png": "[encoded data removed]",
      "text/plain": [
       "<Figure size 1000x600 with 1 Axes>"
      ]
     },
     "metadata": {},
     "output_type": "display_data"
    }
   ],
   "source": [
    "from sklearn.feature_selection import SelectKBest, f_classif\n",
    "\n",
    "# ANOVA\n",
    "anova_selector = SelectKBest(score_func=f_classif, k='all')\n",
    "anova_selector.fit(X_train_res, y_train_res)\n",
    "anova_scores = anova_selector.scores_\n",
    "\n",
    "# Gráfico ANOVA\n",
    "df_anova = pd.DataFrame({\n",
    "    \"Feature\": feature_names,\n",
    "    \"ANOVA\": anova_scores\n",
    "}).sort_values(by=\"ANOVA\", ascending=True)\n",
    "\n",
    "plt.figure(figsize=(10, 6))\n",
    "sns.barplot(data=df_anova, x=\"ANOVA\", y=\"Feature\", palette=\"Blues_d\")\n",
    "plt.title(\"Importancia de features según ANOVA\")\n",
    "plt.xlabel(\"Score ANOVA\")\n",
    "plt.ylabel(\"Feature\")\n",
    "plt.tight_layout()\n",
    "plt.show()"
   ]
  },
  {
   "cell_type": "markdown",
   "id": "a1fecddb",
   "metadata": {},
   "source": [
    "Puede verse en base al análisis de ANOVA que las variables que mejor pueden ayudar en la predicción de nuestro modelo son Nubosidad Total y Viento. Esto puede deberse a que las zonas frías suelen tener mayor nubosidad, mientras que las zonas cálidas suelen tener cielos más despejados. El viento también está relacionado con la temperatura: en zonas frías, los vientos son generalmente más intensos y persistentes.\n",
    "\n",
    "Las precipitaciones tienen menos incidencia en la predicción (cerca de 15 en este Test) pero como vimos en la primera parte de este Trabajo Práctico suele haber una correlación entre las mismas y las temperaturas (a mayores temperaturas, mayores lluvias)."
   ]
  },
  {
   "cell_type": "markdown",
   "id": "a521adb3",
   "metadata": {},
   "source": [
    "**Información Mutua**"
   ]
  },
  {
   "cell_type": "code",
   "execution_count": 38,
   "id": "e0991d3d",
   "metadata": {},
   "outputs": [
    {
     "name": "stderr",
     "output_type": "stream",
     "text": [
      "C:\\Users\\matim\\AppData\\Local\\Temp\\ipykernel_9384\\467471640.py:15: FutureWarning: \n",
      "\n",
      "Passing `palette` without assigning `hue` is deprecated and will be removed in v0.14.0. Assign the `y` variable to `hue` and set `legend=False` for the same effect.\n",
      "\n",
      "  sns.barplot(data=df_mi, x=\"InfoMutua\", y=\"Feature\", palette=\"Oranges_d\")\n"
     ]
    },
    {
     "data": {
      "image/png": "[encoded data removed]",
      "text/plain": [
       "<Figure size 1000x600 with 1 Axes>"
      ]
     },
     "metadata": {},
     "output_type": "display_data"
    }
   ],
   "source": [
    "from sklearn.feature_selection import SelectKBest, mutual_info_classif\n",
    "\n",
    "# Información Mutua\n",
    "mi_selector = SelectKBest(score_func=mutual_info_classif, k='all')\n",
    "mi_selector.fit(X_train_res, y_train_res)\n",
    "mi_scores = mi_selector.scores_\n",
    "\n",
    "# Gráfico Información Mutua\n",
    "df_mi = pd.DataFrame({\n",
    "    \"Feature\": feature_names,\n",
    "    \"InfoMutua\": mi_scores\n",
    "}).sort_values(by=\"InfoMutua\", ascending=True)\n",
    "\n",
    "plt.figure(figsize=(10, 6))\n",
    "sns.barplot(data=df_mi, x=\"InfoMutua\", y=\"Feature\", palette=\"Oranges_d\")\n",
    "plt.title(\"Importancia de features según Información Mutua\")\n",
    "plt.xlabel(\"Score Información Mutua\")\n",
    "plt.ylabel(\"Feature\")\n",
    "plt.tight_layout()\n",
    "plt.show()"
   ]
  },
  {
   "cell_type": "markdown",
   "id": "bf83dba0",
   "metadata": {},
   "source": [
    "A diferencia de con ANOVA, donde Nubosidad y Viento fueron los más relevantes, en Información Mutua la variable más informativa fue Precipitación, seguida por Nubosidad y Prec. > a 1 mm. Esto sugiere que, aunque no hay grandes diferencias de medias entre clases, sí hay una dependencia estadística entre la cantidad de precipitación y el tipo de clima, posiblemente en patrones más complejos o no lineales. Como ya marcamos que vimmos en el tarbajo anterior."
   ]
  },
  {
   "cell_type": "markdown",
   "id": "e2647278",
   "metadata": {},
   "source": [
    "--- \n",
    "## Selección de features\n",
    "\n",
    "Para seleccionar los features nos guiamos en los resultados de los tests que acabamos de realizar.\n",
    "\n",
    "Estas serán las siguientes variables:\n",
    "\n",
    "Nubosidad total → alta relevancia tanto en ANOVA como en Información Mutua.\n",
    "\n",
    "Precipitación → destaca principalmente en Información Mutua.\n",
    "\n",
    "Viento → muy relevante en ANOVA, y aceptable en Información Mutua.\n"
   ]
  },
  {
   "cell_type": "code",
   "execution_count": 39,
   "id": "9688c47c",
   "metadata": {},
   "outputs": [],
   "source": [
    "# Lista de features seleccionadas\n",
    "features_seleccionadas = [\n",
    "    'num__Nubosidad total',\n",
    "    'num__Precipitación',\n",
    "    'num__Viento'\n",
    "]"
   ]
  },
  {
   "cell_type": "markdown",
   "id": "52bf467a",
   "metadata": {},
   "source": [
    "Esta reducción de dimensionalidad mantendrá la capacidad predictiva del modelo y mejorará su interpretabilidad. \n",
    "\n",
    "No consideramos necesario crear nuevos features."
   ]
  }
 ],
 "metadata": {
  "kernelspec": {
   "display_name": "add-env",
   "language": "python",
   "name": "python3"
  },
  "language_info": {
   "codemirror_mode": {
    "name": "ipython",
    "version": 3
   },
   "file_extension": ".py",
   "mimetype": "text/x-python",
   "name": "python",
   "nbconvert_exporter": "python",
   "pygments_lexer": "ipython3",
   "version": "3.11.12"
  }
 },
 "nbformat": 4,
 "nbformat_minor": 5
}

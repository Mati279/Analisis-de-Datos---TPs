{
 "cells": [
  {
   "cell_type": "code",
   "execution_count": 3,
   "id": "3d9da0fc",
   "metadata": {},
   "outputs": [],
   "source": [
    "import pandas as pd\n",
    "import numpy as np\n",
    "import matplotlib.pyplot as plt\n",
    "import seaborn as sns\n",
    "import json\n",
    "from sklearn.pipeline import Pipeline\n",
    "from sklearn.compose import ColumnTransformer\n",
    "from sklearn.preprocessing import StandardScaler, OneHotEncoder, QuantileTransformer, OrdinalEncoder, FunctionTransformer\n",
    "from sklearn.impute import SimpleImputer\n",
    "from sklearn.feature_selection import SelectKBest, f_classif, mutual_info_classif\n",
    "from sklearn.decomposition import PCA\n",
    "#from category_encoders import TargetEncoder\n",
    "from pandas.api.types import CategoricalDtype"
   ]
  },
  {
   "cell_type": "code",
   "execution_count": 4,
   "id": "a616dfb7",
   "metadata": {},
   "outputs": [
    {
     "data": {
      "application/vnd.microsoft.datawrangler.viewer.v0+json": {
       "columns": [
        {
         "name": "index",
         "rawType": "int64",
         "type": "integer"
        },
        {
         "name": "Estación",
         "rawType": "object",
         "type": "string"
        },
        {
         "name": "Mes",
         "rawType": "object",
         "type": "string"
        },
        {
         "name": "Precipitación",
         "rawType": "float64",
         "type": "float"
        },
        {
         "name": "Prec. > a 1.0 mm",
         "rawType": "float64",
         "type": "float"
        },
        {
         "name": "Humedad relativa",
         "rawType": "float64",
         "type": "float"
        },
        {
         "name": "Nubosidad total",
         "rawType": "float64",
         "type": "float"
        },
        {
         "name": "Viento",
         "rawType": "float64",
         "type": "float"
        },
        {
         "name": "Temperatura",
         "rawType": "float64",
         "type": "float"
        },
        {
         "name": "Temperatura Máx.",
         "rawType": "float64",
         "type": "float"
        },
        {
         "name": "Temperatura Mín.",
         "rawType": "float64",
         "type": "float"
        },
        {
         "name": "Viento_medido",
         "rawType": "bool",
         "type": "boolean"
        }
       ],
       "ref": "d67e6ca7-6a51-4b31-96eb-4a05c76cf0b3",
       "rows": [
        [
         "0",
         "AEROPARQUE AERO",
         "Abr",
         "108.3",
         "6.6",
         "73.6",
         "3.5",
         "13.9",
         "18.5",
         "22.0",
         "15.3",
         "True"
        ],
        [
         "1",
         "AEROPARQUE AERO",
         "Ago",
         "61.5",
         "5.0",
         "73.6",
         "3.9",
         "14.0",
         "12.9",
         "16.5",
         "9.7",
         "True"
        ],
        [
         "2",
         "AEROPARQUE AERO",
         "Dic",
         "112.8",
         "6.6",
         "65.1",
         "3.2",
         "15.9",
         "23.2",
         "27.4",
         "19.2",
         "True"
        ],
        [
         "3",
         "AEROPARQUE AERO",
         "Ene",
         "117.5",
         "6.7",
         "67.0",
         "3.1",
         "16.8",
         "24.5",
         "28.4",
         "20.8",
         "True"
        ],
        [
         "4",
         "AEROPARQUE AERO",
         "Feb",
         "112.3",
         "6.0",
         "69.8",
         "3.2",
         "15.8",
         "23.7",
         "27.3",
         "20.2",
         "True"
        ]
       ],
       "shape": {
        "columns": 11,
        "rows": 5
       }
      },
      "text/html": [
       "<div>\n",
       "<style scoped>\n",
       "    .dataframe tbody tr th:only-of-type {\n",
       "        vertical-align: middle;\n",
       "    }\n",
       "\n",
       "    .dataframe tbody tr th {\n",
       "        vertical-align: top;\n",
       "    }\n",
       "\n",
       "    .dataframe thead th {\n",
       "        text-align: right;\n",
       "    }\n",
       "</style>\n",
       "<table border=\"1\" class=\"dataframe\">\n",
       "  <thead>\n",
       "    <tr style=\"text-align: right;\">\n",
       "      <th></th>\n",
       "      <th>Estación</th>\n",
       "      <th>Mes</th>\n",
       "      <th>Precipitación</th>\n",
       "      <th>Prec. &gt; a 1.0 mm</th>\n",
       "      <th>Humedad relativa</th>\n",
       "      <th>Nubosidad total</th>\n",
       "      <th>Viento</th>\n",
       "      <th>Temperatura</th>\n",
       "      <th>Temperatura Máx.</th>\n",
       "      <th>Temperatura Mín.</th>\n",
       "      <th>Viento_medido</th>\n",
       "    </tr>\n",
       "  </thead>\n",
       "  <tbody>\n",
       "    <tr>\n",
       "      <th>0</th>\n",
       "      <td>AEROPARQUE AERO</td>\n",
       "      <td>Abr</td>\n",
       "      <td>108.3</td>\n",
       "      <td>6.6</td>\n",
       "      <td>73.6</td>\n",
       "      <td>3.5</td>\n",
       "      <td>13.9</td>\n",
       "      <td>18.5</td>\n",
       "      <td>22.0</td>\n",
       "      <td>15.3</td>\n",
       "      <td>True</td>\n",
       "    </tr>\n",
       "    <tr>\n",
       "      <th>1</th>\n",
       "      <td>AEROPARQUE AERO</td>\n",
       "      <td>Ago</td>\n",
       "      <td>61.5</td>\n",
       "      <td>5.0</td>\n",
       "      <td>73.6</td>\n",
       "      <td>3.9</td>\n",
       "      <td>14.0</td>\n",
       "      <td>12.9</td>\n",
       "      <td>16.5</td>\n",
       "      <td>9.7</td>\n",
       "      <td>True</td>\n",
       "    </tr>\n",
       "    <tr>\n",
       "      <th>2</th>\n",
       "      <td>AEROPARQUE AERO</td>\n",
       "      <td>Dic</td>\n",
       "      <td>112.8</td>\n",
       "      <td>6.6</td>\n",
       "      <td>65.1</td>\n",
       "      <td>3.2</td>\n",
       "      <td>15.9</td>\n",
       "      <td>23.2</td>\n",
       "      <td>27.4</td>\n",
       "      <td>19.2</td>\n",
       "      <td>True</td>\n",
       "    </tr>\n",
       "    <tr>\n",
       "      <th>3</th>\n",
       "      <td>AEROPARQUE AERO</td>\n",
       "      <td>Ene</td>\n",
       "      <td>117.5</td>\n",
       "      <td>6.7</td>\n",
       "      <td>67.0</td>\n",
       "      <td>3.1</td>\n",
       "      <td>16.8</td>\n",
       "      <td>24.5</td>\n",
       "      <td>28.4</td>\n",
       "      <td>20.8</td>\n",
       "      <td>True</td>\n",
       "    </tr>\n",
       "    <tr>\n",
       "      <th>4</th>\n",
       "      <td>AEROPARQUE AERO</td>\n",
       "      <td>Feb</td>\n",
       "      <td>112.3</td>\n",
       "      <td>6.0</td>\n",
       "      <td>69.8</td>\n",
       "      <td>3.2</td>\n",
       "      <td>15.8</td>\n",
       "      <td>23.7</td>\n",
       "      <td>27.3</td>\n",
       "      <td>20.2</td>\n",
       "      <td>True</td>\n",
       "    </tr>\n",
       "  </tbody>\n",
       "</table>\n",
       "</div>"
      ],
      "text/plain": [
       "          Estación  Mes  Precipitación  Prec. > a 1.0 mm  Humedad relativa  \\\n",
       "0  AEROPARQUE AERO  Abr          108.3               6.6              73.6   \n",
       "1  AEROPARQUE AERO  Ago           61.5               5.0              73.6   \n",
       "2  AEROPARQUE AERO  Dic          112.8               6.6              65.1   \n",
       "3  AEROPARQUE AERO  Ene          117.5               6.7              67.0   \n",
       "4  AEROPARQUE AERO  Feb          112.3               6.0              69.8   \n",
       "\n",
       "   Nubosidad total  Viento  Temperatura  Temperatura Máx.  Temperatura Mín.  \\\n",
       "0              3.5    13.9         18.5              22.0              15.3   \n",
       "1              3.9    14.0         12.9              16.5               9.7   \n",
       "2              3.2    15.9         23.2              27.4              19.2   \n",
       "3              3.1    16.8         24.5              28.4              20.8   \n",
       "4              3.2    15.8         23.7              27.3              20.2   \n",
       "\n",
       "   Viento_medido  \n",
       "0           True  \n",
       "1           True  \n",
       "2           True  \n",
       "3           True  \n",
       "4           True  "
      ]
     },
     "execution_count": 4,
     "metadata": {},
     "output_type": "execute_result"
    }
   ],
   "source": [
    "# Leer el JSON\n",
    "df_91_20 = pd.read_json('df_91_20.json', orient='records', lines=True)\n",
    "\n",
    "df_91_20.head()"
   ]
  },
  {
   "cell_type": "markdown",
   "id": "8c22fba0",
   "metadata": {},
   "source": [
    "### Variable Target\n",
    "\n",
    "Para abordar el problema como una tarea de clasificación, se definió como variable objetivo la temperatura media anual de cada estación, representada por la variable 'Temperatura'. A partir de su valor promedio anual, se clasificaron las estaciones meteorológicas en cuatro categorías:\n",
    "\n",
    "Frías: promedio menor a 10 °C\n",
    "\n",
    "Templadas frescas: entre 10 °C y 15 °C\n",
    "\n",
    "Templadas cálidas: entre 15 °C y 20 °C\n",
    "\n",
    "Cálidas: promedio mayor a 20 °C\n",
    "\n",
    "Esta clasificación busca representar de manera más precisa la variabilidad climática del país. A continuación, se agruparon las observaciones por estación y se asignó una etiqueta a cada una según el promedio de temperatura."
   ]
  },
  {
   "cell_type": "code",
   "execution_count": 5,
   "id": "335c1ac8",
   "metadata": {},
   "outputs": [],
   "source": [
    "# Agrupamos por estación y calculamos el promedio de temperatura\n",
    "\n",
    "df_temperatura_estacion = df_91_20.groupby(\"Estación\")[\"Temperatura\"].mean().reset_index()\n",
    "\n",
    "# Creamos la variable target\n",
    "\n",
    "def clasificar_temp(temperatura):\n",
    "    if temperatura < 10:\n",
    "        return \"fría\"\n",
    "    elif temperatura < 15:\n",
    "        return \"templada fresca\"\n",
    "    elif temperatura < 20:\n",
    "        return \"templada cálida\"\n",
    "    else:\n",
    "        return \"cálida\"\n",
    "\n",
    "df_temperatura_estacion[\"CLASE\"] = df_temperatura_estacion[\"Temperatura\"].apply(clasificar_temp)"
   ]
  },
  {
   "cell_type": "code",
   "execution_count": 6,
   "id": "045ea300",
   "metadata": {},
   "outputs": [
    {
     "name": "stdout",
     "output_type": "stream",
     "text": [
      "CLASE\n",
      "templada cálida    50\n",
      "templada fresca    19\n",
      "fría               15\n",
      "cálida             14\n",
      "Name: count, dtype: int64\n"
     ]
    }
   ],
   "source": [
    "print(df_temperatura_estacion[\"CLASE\"].value_counts())"
   ]
  },
  {
   "cell_type": "markdown",
   "id": "2ae5e851",
   "metadata": {},
   "source": [
    "Se nota un fuerte desbalance de clases siendo la clase \"templada cálida\" fuertemente predominante. Graficamos para mayor claridad: "
   ]
  },
  {
   "cell_type": "code",
   "execution_count": 7,
   "id": "307e0748",
   "metadata": {},
   "outputs": [
    {
     "name": "stderr",
     "output_type": "stream",
     "text": [
      "C:\\Users\\matim\\AppData\\Local\\Temp\\ipykernel_6404\\3751032074.py:1: FutureWarning: \n",
      "\n",
      "Passing `palette` without assigning `hue` is deprecated and will be removed in v0.14.0. Assign the `x` variable to `hue` and set `legend=False` for the same effect.\n",
      "\n",
      "  sns.countplot(data=df_temperatura_estacion, x=\"CLASE\", palette=\"coolwarm\")\n"
     ]
    },
    {
     "data": {
      "image/png": "[encoded data removed]",
      "text/plain": [
       "<Figure size 640x480 with 1 Axes>"
      ]
     },
     "metadata": {},
     "output_type": "display_data"
    }
   ],
   "source": [
    "sns.countplot(data=df_temperatura_estacion, x=\"CLASE\", palette=\"coolwarm\")\n",
    "plt.title(\"Distribución de clases por estación\")\n",
    "plt.xlabel(\"Clase térmica\")\n",
    "plt.ylabel(\"Cantidad de estaciones\")\n",
    "plt.show()"
   ]
  },
  {
   "cell_type": "markdown",
   "id": "eaaccaf9",
   "metadata": {},
   "source": [
    "Para corregir este sobremuestreo elegimos aplicar un SMOTE a las clases minoritarias en lugar de un submuestreo de la clase mayoritaria ya que nos permite conservar mayor cantidad de datos y ayuda a evitar el overfitting."
   ]
  },
  {
   "cell_type": "code",
   "execution_count": null,
   "id": "761e1002",
   "metadata": {},
   "outputs": [
    {
     "name": "stdout",
     "output_type": "stream",
     "text": [
      "CLASE\n",
      "templada cálida    50\n",
      "templada fresca    50\n",
      "fría               50\n",
      "cálida             50\n",
      "Name: count, dtype: int64\n"
     ]
    }
   ],
   "source": [
    "from sklearn.compose import ColumnTransformer\n",
    "from sklearn.preprocessing import OneHotEncoder, StandardScaler\n",
    "from sklearn.pipeline import Pipeline\n",
    "from sklearn.impute import SimpleImputer\n",
    "from imblearn.over_sampling import SMOTE\n",
    "\n",
    "# Definimos variables numéricas y categóricas\n",
    "numericas = df_temperatura_estacion.select_dtypes(include='number').drop(columns=[\"Temperatura\"]).columns.tolist()\n",
    "categoricas = df_temperatura_estacion.select_dtypes(include='object').drop(columns=[\"CLASE\"]).columns.tolist()\n",
    "\n",
    "# Pipelines para imputación y encoding\n",
    "numeric_pipeline = Pipeline([\n",
    "    (\"imputer\", SimpleImputer(strategy=\"mean\")),\n",
    "    (\"scaler\", StandardScaler())\n",
    "])\n",
    "\n",
    "categorical_pipeline = Pipeline([\n",
    "    (\"imputer\", SimpleImputer(strategy=\"most_frequent\")),\n",
    "    (\"encoder\", OneHotEncoder(handle_unknown='ignore'))\n",
    "])\n",
    "\n",
    "# ColumnTransformer para las variables numéricas y categóricas\n",
    "preprocessor = ColumnTransformer([\n",
    "    (\"num\", numeric_pipeline, numericas),\n",
    "    (\"cat\", categorical_pipeline, categoricas)\n",
    "])\n",
    "\n",
    "# Preprocesamiento\n",
    "X = df_temperatura_estacion.drop(columns=[\"CLASE\"])\n",
    "y = df_temperatura_estacion[\"CLASE\"]\n",
    "\n",
    "X_prep = preprocessor.fit_transform(X)\n",
    "\n",
    "# SMOTE\n",
    "smote = SMOTE(random_state=42)\n",
    "X_res, y_res = smote.fit_resample(X_prep, y)\n",
    "\n",
    "#Vemos cómo quedó\n",
    "print(y_res.value_counts())"
   ]
  },
  {
   "cell_type": "markdown",
   "id": "5b742cd9",
   "metadata": {},
   "source": [
    "Luego de aplicar SMOTE vemos que ahora las clases están balanceadas con 50 casos cada una. "
   ]
  }
 ],
 "metadata": {
  "kernelspec": {
   "display_name": "add-env",
   "language": "python",
   "name": "python3"
  },
  "language_info": {
   "codemirror_mode": {
    "name": "ipython",
    "version": 3
   },
   "file_extension": ".py",
   "mimetype": "text/x-python",
   "name": "python",
   "nbconvert_exporter": "python",
   "pygments_lexer": "ipython3",
   "version": "3.11.12"
  }
 },
 "nbformat": 4,
 "nbformat_minor": 5
}

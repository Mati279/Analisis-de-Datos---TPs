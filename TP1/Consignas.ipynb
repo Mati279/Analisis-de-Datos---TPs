{
 "cells": [
  {
   "cell_type": "markdown",
   "id": "71375fb6",
   "metadata": {},
   "source": [
    "## Consignas\n",
    "\n",
    "### Planteo de al menos tres preguntas a ser respondidas mediante análisis de datos. \n",
    "○  Se pueden usar como ejemplo las preguntas sugeridas, o proponer otras. \n",
    "\n",
    "### Exploración y comprensión de los datos: \n",
    "\n",
    "-Cargar el dataset proporcionado y realizar un análisis exploratorio de los datos. \n",
    "\n",
    "-Describir las características principales del dataset, incluyendo el número de \n",
    "observaciones, número de variables y tipos de datos. \n",
    "\n",
    "-Identificar patrones generales, distribuciones y cualquier anomalía inicial en los \n",
    "datos. \n",
    "\n",
    "-Visualizar las variables más importantes para entender sus relaciones y \n",
    "distribuciones. \n",
    " \n",
    "### Aplicación de técnicas de visualización: \n",
    "-Utilizar técnicas de visualización adecuadas para ilustrar las principales \n",
    "características del dataset. \n",
    "\n",
    "-Asegurarse de que las visualizaciones sean claras, concisas y efectivas para \n",
    "comunicar la información. \n",
    "\n",
    "-Interpretar los resultados obtenidos a partir de las visualizaciones. \n",
    " \n",
    "### Limpieza del dataset: \n",
    "-Identificar y tratar los valores faltantes en el dataset. \n",
    "\n",
    "-Detectar y manejar los outliers utilizando técnicas estadísticas o visuales \n",
    "apropiadas.\n",
    "\n",
    "-Realizar una limpieza general del dataset, eliminando o corrigiendo datos \n",
    "inconsistentes o irrelevantes."
   ]
  },
  {
   "cell_type": "markdown",
   "id": "fd580548",
   "metadata": {},
   "source": [
    "## Preguntas orientativas\n",
    "¿Cómo varía la temperatura a lo largo de las estaciones del año? \n",
    "\n",
    "¿En qué meses se observan los valores más extremos de temperatura, humedad, \n",
    "viento y precipitación? \n",
    "\n",
    "¿Las tendencias y patrones observados varían entre estaciones meteorológicas? \n",
    "\n",
    "¿Cómo se compara el último año con la media de los últimos 30 años? \n",
    "\n",
    "¿Las condiciones actuales y el pronóstico están dentro de lo esperado para esta época \n",
    "del año según los datos históricos?"
   ]
  }
 ],
 "metadata": {
  "language_info": {
   "name": "python"
  }
 },
 "nbformat": 4,
 "nbformat_minor": 5
}

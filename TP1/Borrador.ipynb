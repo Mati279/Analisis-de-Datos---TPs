{
 "cells": [
  {
   "cell_type": "markdown",
   "id": "c9057c76",
   "metadata": {},
   "source": [
    "## Imports"
   ]
  },
  {
   "cell_type": "code",
   "execution_count": 39,
   "id": "2dfa30bb",
   "metadata": {},
   "outputs": [],
   "source": [
    "import pandas as pd\n",
    "import matplotlib.pyplot as plt\n",
    "import seaborn as sns\n",
    "import requests\n",
    "from bs4 import BeautifulSoup\n",
    "from sqlalchemy import create_engine, MetaData, text\n",
    "import json\n",
    "from io import StringIO"
   ]
  },
  {
   "cell_type": "markdown",
   "id": "1faf1f53",
   "metadata": {},
   "source": [
    "---\n",
    "\n",
    "## Carga de los dataset"
   ]
  },
  {
   "cell_type": "code",
   "execution_count": 40,
   "id": "ef294239",
   "metadata": {},
   "outputs": [],
   "source": [
    "# Optamos por cargar el primer dataset (datos metereológicos desde 1991 a 2020) desde un archivo excel que obtuvimos del sitio oficial\n",
    "# del SMN: https://www.smn.gob.ar/descarga-de-datos. \n",
    "# # Saltamos las primeras 4 filas porque contienen información no relevante para el análisis.\n",
    "df_91_20_wide = pd.read_excel(\"Estadísticas normales Datos abiertos 1991-2020.xlsx\", skiprows=4)\n",
    "\n",
    "#El segundo dataset corresponde a datos de temperatura de los últimos 365 días y lo cargamos desde un archivo de texto obtenido en el mismo sitio.\n",
    "#Además salteamos las primeras 3 filas que contienen información no relevante y renombramos las columnas para que coincidan.\n",
    "\n",
    "df_365 = pd.read_fwf(\"registro_temperatura365d_smn.txt\", skiprows=3, names=[\"FECHA\", \"Temperatura Máx.\", \"Temperatura Mín.\", \"Estación\"], encoding=\"latin1\")\n"
   ]
  },
  {
   "cell_type": "markdown",
   "id": "00095d06",
   "metadata": {},
   "source": [
    "---\n",
    "\n",
    "## Arreglo de los dataset\n",
    "\n",
    "### Dataset 1991-2020\n",
    "\n",
    "Encontramos dos problemas iniciales con este dataset: \n",
    "1. La forma en que se indican los datos faltantes es con la indicación \"S/D\", no reconocida por Pandas. \n",
    "\n",
    "2. La información se encuentra en un formato ancho (\"wide format\") donde no cumple con el formato \"tidy\" ideal para modelos de ML. "
   ]
  },
  {
   "cell_type": "code",
   "execution_count": 41,
   "id": "c9f5bb8f",
   "metadata": {},
   "outputs": [],
   "source": [
    "# Primero solucionamos el problema de la referencia a los valores faltantes.\n",
    "for col in df_91_20_wide.columns[2:]:\n",
    "    df_91_20_wide[col] = (\n",
    "        df_91_20_wide[col]\n",
    "        .replace(\"S/D\", pd.NA)          \n",
    "    )"
   ]
  },
  {
   "cell_type": "code",
   "execution_count": 42,
   "id": "57a6c79e",
   "metadata": {},
   "outputs": [
    {
     "data": {
      "application/vnd.microsoft.datawrangler.viewer.v0+json": {
       "columns": [
        {
         "name": "index",
         "rawType": "int64",
         "type": "integer"
        },
        {
         "name": "Estación",
         "rawType": "object",
         "type": "string"
        },
        {
         "name": "Mes",
         "rawType": "object",
         "type": "string"
        },
        {
         "name": "Prec. > a 1.0 mm",
         "rawType": "object",
         "type": "unknown"
        },
        {
         "name": "Humedad relativa",
         "rawType": "object",
         "type": "unknown"
        },
        {
         "name": "Nubosidad total",
         "rawType": "object",
         "type": "unknown"
        },
        {
         "name": "Precipitación",
         "rawType": "object",
         "type": "unknown"
        },
        {
         "name": "Temperatura",
         "rawType": "object",
         "type": "unknown"
        },
        {
         "name": "Temperatura Máx.",
         "rawType": "object",
         "type": "unknown"
        },
        {
         "name": "Temperatura Mín.",
         "rawType": "object",
         "type": "unknown"
        },
        {
         "name": "Viento",
         "rawType": "object",
         "type": "unknown"
        }
       ],
       "ref": "11a0dbff-3af1-4557-85a7-981c5be5244d",
       "rows": [
        [
         "0",
         "AEROPARQUE AERO",
         "Abr",
         "6.6",
         "73.6",
         "3.5",
         "108.3",
         "18.5",
         "22.0",
         "15.3",
         "13.9"
        ],
        [
         "1",
         "AEROPARQUE AERO",
         "Ago",
         "5.0",
         "73.6",
         "3.9",
         "61.5",
         "12.9",
         "16.5",
         "9.7",
         "14.0"
        ],
        [
         "2",
         "AEROPARQUE AERO",
         "Dic",
         "6.6",
         "65.1",
         "3.2",
         "112.8",
         "23.2",
         "27.4",
         "19.2",
         "15.9"
        ],
        [
         "3",
         "AEROPARQUE AERO",
         "Ene",
         "6.7",
         "67.0",
         "3.1",
         "117.5",
         "24.5",
         "28.4",
         "20.8",
         "16.8"
        ],
        [
         "4",
         "AEROPARQUE AERO",
         "Feb",
         "6.0",
         "69.8",
         "3.2",
         "112.3",
         "23.7",
         "27.3",
         "20.2",
         "15.8"
        ]
       ],
       "shape": {
        "columns": 10,
        "rows": 5
       }
      },
      "text/html": [
       "<div>\n",
       "<style scoped>\n",
       "    .dataframe tbody tr th:only-of-type {\n",
       "        vertical-align: middle;\n",
       "    }\n",
       "\n",
       "    .dataframe tbody tr th {\n",
       "        vertical-align: top;\n",
       "    }\n",
       "\n",
       "    .dataframe thead th {\n",
       "        text-align: right;\n",
       "    }\n",
       "</style>\n",
       "<table border=\"1\" class=\"dataframe\">\n",
       "  <thead>\n",
       "    <tr style=\"text-align: right;\">\n",
       "      <th>Valor Medio de</th>\n",
       "      <th>Estación</th>\n",
       "      <th>Mes</th>\n",
       "      <th>Prec. &gt; a 1.0 mm</th>\n",
       "      <th>Humedad relativa</th>\n",
       "      <th>Nubosidad total</th>\n",
       "      <th>Precipitación</th>\n",
       "      <th>Temperatura</th>\n",
       "      <th>Temperatura Máx.</th>\n",
       "      <th>Temperatura Mín.</th>\n",
       "      <th>Viento</th>\n",
       "    </tr>\n",
       "  </thead>\n",
       "  <tbody>\n",
       "    <tr>\n",
       "      <th>0</th>\n",
       "      <td>AEROPARQUE AERO</td>\n",
       "      <td>Abr</td>\n",
       "      <td>6.6</td>\n",
       "      <td>73.6</td>\n",
       "      <td>3.5</td>\n",
       "      <td>108.3</td>\n",
       "      <td>18.5</td>\n",
       "      <td>22.0</td>\n",
       "      <td>15.3</td>\n",
       "      <td>13.9</td>\n",
       "    </tr>\n",
       "    <tr>\n",
       "      <th>1</th>\n",
       "      <td>AEROPARQUE AERO</td>\n",
       "      <td>Ago</td>\n",
       "      <td>5.0</td>\n",
       "      <td>73.6</td>\n",
       "      <td>3.9</td>\n",
       "      <td>61.5</td>\n",
       "      <td>12.9</td>\n",
       "      <td>16.5</td>\n",
       "      <td>9.7</td>\n",
       "      <td>14.0</td>\n",
       "    </tr>\n",
       "    <tr>\n",
       "      <th>2</th>\n",
       "      <td>AEROPARQUE AERO</td>\n",
       "      <td>Dic</td>\n",
       "      <td>6.6</td>\n",
       "      <td>65.1</td>\n",
       "      <td>3.2</td>\n",
       "      <td>112.8</td>\n",
       "      <td>23.2</td>\n",
       "      <td>27.4</td>\n",
       "      <td>19.2</td>\n",
       "      <td>15.9</td>\n",
       "    </tr>\n",
       "    <tr>\n",
       "      <th>3</th>\n",
       "      <td>AEROPARQUE AERO</td>\n",
       "      <td>Ene</td>\n",
       "      <td>6.7</td>\n",
       "      <td>67.0</td>\n",
       "      <td>3.1</td>\n",
       "      <td>117.5</td>\n",
       "      <td>24.5</td>\n",
       "      <td>28.4</td>\n",
       "      <td>20.8</td>\n",
       "      <td>16.8</td>\n",
       "    </tr>\n",
       "    <tr>\n",
       "      <th>4</th>\n",
       "      <td>AEROPARQUE AERO</td>\n",
       "      <td>Feb</td>\n",
       "      <td>6.0</td>\n",
       "      <td>69.8</td>\n",
       "      <td>3.2</td>\n",
       "      <td>112.3</td>\n",
       "      <td>23.7</td>\n",
       "      <td>27.3</td>\n",
       "      <td>20.2</td>\n",
       "      <td>15.8</td>\n",
       "    </tr>\n",
       "  </tbody>\n",
       "</table>\n",
       "</div>"
      ],
      "text/plain": [
       "Valor Medio de         Estación  Mes Prec. > a 1.0 mm Humedad relativa  \\\n",
       "0               AEROPARQUE AERO  Abr              6.6             73.6   \n",
       "1               AEROPARQUE AERO  Ago              5.0             73.6   \n",
       "2               AEROPARQUE AERO  Dic              6.6             65.1   \n",
       "3               AEROPARQUE AERO  Ene              6.7             67.0   \n",
       "4               AEROPARQUE AERO  Feb              6.0             69.8   \n",
       "\n",
       "Valor Medio de Nubosidad total Precipitación Temperatura Temperatura Máx.  \\\n",
       "0                          3.5         108.3        18.5             22.0   \n",
       "1                          3.9          61.5        12.9             16.5   \n",
       "2                          3.2         112.8        23.2             27.4   \n",
       "3                          3.1         117.5        24.5             28.4   \n",
       "4                          3.2         112.3        23.7             27.3   \n",
       "\n",
       "Valor Medio de Temperatura Mín. Viento  \n",
       "0                          15.3   13.9  \n",
       "1                           9.7   14.0  \n",
       "2                          19.2   15.9  \n",
       "3                          20.8   16.8  \n",
       "4                          20.2   15.8  "
      ]
     },
     "execution_count": 42,
     "metadata": {},
     "output_type": "execute_result"
    }
   ],
   "source": [
    "#Ahora solucionamos el segundo problema transformando el dataset en un formato long en el que cada variable tenga su propia columna \n",
    "# y cada observación su propia fila.\n",
    "\n",
    "# Convertimos de formato wide a long con el método melt de pandas.\n",
    "df_long= df_91_20_wide.melt(id_vars=['Estación', 'Valor Medio de'], var_name='Mes', value_name='Valor')\n",
    "# Ahora pivoteamos para que las métricas sean columnas\n",
    "df_91_20_tidy = df_long.pivot_table(index=['Estación', 'Mes'], columns='Valor Medio de', values='Valor').reset_index()\n",
    "\n",
    "#Simplificamos algunos nombres de columnas.\n",
    "df_91_20_tidy.rename(columns={\n",
    "    'Humedad relativa (%)': 'Humedad relativa',\n",
    "    'Nubosidad total (octavos)': 'Nubosidad total',\n",
    "    'Precipitación (mm)': 'Precipitación',\n",
    "    'Frecuencia de días con Precipitación superior a 1.0 mm': 'Prec. > a 1.0 mm',\n",
    "    'Temperatura (°C)': 'Temperatura',\n",
    "    'Temperatura máxima (°C)': 'Temperatura Máx.',\n",
    "    'Temperatura mínima (°C)': 'Temperatura Mín.',\n",
    "    'Velocidad del Viento (km/h) (2011-2020)': 'Viento'\n",
    "}, inplace=True)\n",
    "\n",
    "df_91_20_tidy.head()"
   ]
  },
  {
   "attachments": {
    "image-4.png": {
     "image/png": "[encoded data removed]"
    },
    "image.png": {
     "image/png": "[encoded data removed]"
    }
   },
   "cell_type": "markdown",
   "id": "662f4fa4",
   "metadata": {},
   "source": [
    "Luego de esto podemos ver la diferencia entre cómo estaban arreglados los datos antes y cómo lo están ahora:\n",
    "\n",
    "Arreglo inicial: \n",
    "![image.png](attachment:image.png)\n",
    "\n",
    "Arreglo tidy: \n",
    "![image-4.png](attachment:image-4.png)\n",
    "\n",
    "Puede notarse cómo ahora cada variable tiene su propia columna haciendo más fácil la selección de los Features y de la variable objetivo para el entrenamiento. Las primeras dos columnas actúan como una doble ID para las entradas, formadas por \"Estación\" + \"Mes\", de esta manera cada observación\n",
    "corresponde a una estación determinada en un mes determinado. "
   ]
  },
  {
   "cell_type": "markdown",
   "id": "884e5244",
   "metadata": {},
   "source": [
    "### Dataset de los últimos 365 días\n",
    "\n",
    "Ahora debemos acomodar este segundo dataset para que sea compatible con el primero ya que vamos a hacer comparaciones entre ambos.\n",
    "\n",
    "Observaciones: \n",
    "\n",
    "1. En los dos dataset figuran los datos de temperatura máxima y mínima que son los datos que vamos a comparar.\n",
    "\n",
    "\n",
    "2. En el dataset de los últimos 365 días los datos están acomodados por día, a diferencia de las mediciones mensuales del primer dataset. Para solucionar esto elegimos agrupar las mediciones del segundo dataset en meses contando hasta el mes pasado (abril de 2025) ya que mayo no está completo.\n",
    "\n",
    "3. También nos enfrentamos al problema de las estaciones en donde se realizaron las mediciones, en ambos dataset los nombres de algunas estaciones varían y también, como puede verse a continuación, la cantidad de estaciones es diferente.  "
   ]
  },
  {
   "cell_type": "code",
   "execution_count": 43,
   "id": "ab85faa3",
   "metadata": {},
   "outputs": [
    {
     "name": "stdout",
     "output_type": "stream",
     "text": [
      "Cantidad de estaciones en dataset 91-20:  98\n",
      "Cantidad de estaciones en dataset 365:  118\n"
     ]
    }
   ],
   "source": [
    "print(\"Cantidad de estaciones en dataset 91-20: \", df_91_20_tidy[\"Estación\"].nunique())\n",
    "print(\"Cantidad de estaciones en dataset 365: \", df_365[\"Estación\"].nunique())"
   ]
  },
  {
   "cell_type": "markdown",
   "id": "84392337",
   "metadata": {},
   "source": [
    "Por esta razón hemos decidido promediar las mediciones entre todas las estaciones para cada dataset a la hora de establecer las comparaciones entre ellos más adelante."
   ]
  },
  {
   "cell_type": "code",
   "execution_count": 44,
   "id": "918a5646",
   "metadata": {},
   "outputs": [
    {
     "data": {
      "application/vnd.microsoft.datawrangler.viewer.v0+json": {
       "columns": [
        {
         "name": "Mes",
         "rawType": "object",
         "type": "string"
        },
        {
         "name": "Temperatura Máx.",
         "rawType": "float64",
         "type": "float"
        },
        {
         "name": "Temperatura Mín.",
         "rawType": "float64",
         "type": "float"
        }
       ],
       "ref": "d4929075-369f-4688-a83a-3d5369711cec",
       "rows": [
        [
         "Abr",
         "20.5",
         "9.3"
        ],
        [
         "Ago",
         "15.7",
         "3.7"
        ],
        [
         "Dic",
         "27.1",
         "13.7"
        ],
        [
         "Ene",
         "29.4",
         "15.8"
        ],
        [
         "Feb",
         "29.1",
         "16.3"
        ]
       ],
       "shape": {
        "columns": 2,
        "rows": 5
       }
      },
      "text/html": [
       "<div>\n",
       "<style scoped>\n",
       "    .dataframe tbody tr th:only-of-type {\n",
       "        vertical-align: middle;\n",
       "    }\n",
       "\n",
       "    .dataframe tbody tr th {\n",
       "        vertical-align: top;\n",
       "    }\n",
       "\n",
       "    .dataframe thead th {\n",
       "        text-align: right;\n",
       "    }\n",
       "</style>\n",
       "<table border=\"1\" class=\"dataframe\">\n",
       "  <thead>\n",
       "    <tr style=\"text-align: right;\">\n",
       "      <th></th>\n",
       "      <th>Temperatura Máx.</th>\n",
       "      <th>Temperatura Mín.</th>\n",
       "    </tr>\n",
       "    <tr>\n",
       "      <th>Mes</th>\n",
       "      <th></th>\n",
       "      <th></th>\n",
       "    </tr>\n",
       "  </thead>\n",
       "  <tbody>\n",
       "    <tr>\n",
       "      <th>Abr</th>\n",
       "      <td>20.5</td>\n",
       "      <td>9.3</td>\n",
       "    </tr>\n",
       "    <tr>\n",
       "      <th>Ago</th>\n",
       "      <td>15.7</td>\n",
       "      <td>3.7</td>\n",
       "    </tr>\n",
       "    <tr>\n",
       "      <th>Dic</th>\n",
       "      <td>27.1</td>\n",
       "      <td>13.7</td>\n",
       "    </tr>\n",
       "    <tr>\n",
       "      <th>Ene</th>\n",
       "      <td>29.4</td>\n",
       "      <td>15.8</td>\n",
       "    </tr>\n",
       "    <tr>\n",
       "      <th>Feb</th>\n",
       "      <td>29.1</td>\n",
       "      <td>16.3</td>\n",
       "    </tr>\n",
       "  </tbody>\n",
       "</table>\n",
       "</div>"
      ],
      "text/plain": [
       "     Temperatura Máx.  Temperatura Mín.\n",
       "Mes                                    \n",
       "Abr              20.5               9.3\n",
       "Ago              15.7               3.7\n",
       "Dic              27.1              13.7\n",
       "Ene              29.4              15.8\n",
       "Feb              29.1              16.3"
      ]
     },
     "execution_count": 44,
     "metadata": {},
     "output_type": "execute_result"
    }
   ],
   "source": [
    "# Primero convertimos FECHA al formato datetime y agrupamos por meses.\n",
    "df_365[\"FECHA\"] = pd.to_datetime(df_365[\"FECHA\"], format=\"%d%m%Y\", errors='coerce')\n",
    "df_365[\"Mes\"] = df_365[\"FECHA\"].dt.to_period(\"M\")\n",
    "\n",
    "# Eliminamos las filas correspondientes a mayo de 2025 y a enero, febrero, marzo y abril de 2024, para no tener mediciones de meses repetidas.\n",
    "meses_a_excluir = [\"2025-05\", \"2024-01\", \"2024-02\", \"2024-03\", \"2024-04\"]\n",
    "df_365 = df_365[~df_365[\"Mes\"].isin(meses_a_excluir)]\n",
    "\n",
    "#Eliminamos los datos faltantes. Siendo sólo el 1% de los datos, no es un problema para el análisis.\n",
    "df_365 = df_365.dropna(axis=0)\n",
    "\n",
    "#Ahora reemplazamos los valores de la columna \"Mes\" por los nombres de los meses para que coincida a cómo está en el otro dataframe.\n",
    "meses = {\n",
    "    '01': 'Ene',\n",
    "    '02': 'Feb',\n",
    "    '03': 'Mar',\n",
    "    '04': 'Abr',\n",
    "    '05': 'May',\n",
    "    '06': 'Jun',\n",
    "    '07': 'Jul',\n",
    "    '08': 'Ago',\n",
    "    '09': 'Sep',\n",
    "    '10': 'Oct',\n",
    "    '11': 'Nov',\n",
    "    '12': 'Dic'\n",
    "}\n",
    "\n",
    "df_365['Mes'] = df_365['FECHA'].dt.strftime('%m').map(meses)\n",
    "\n",
    "# Calculamos el promedio mensual de las temperaturas máximas y mínimas entre todas las estaciones juntas\n",
    "df_365_tidy = df_365.groupby(\"Mes\")[[\"Temperatura Máx.\", \"Temperatura Mín.\"]].mean().round(1)\n",
    "\n",
    "df_365_tidy.head()"
   ]
  },
  {
   "cell_type": "markdown",
   "id": "d6442cbd",
   "metadata": {},
   "source": [
    "Finalmente quedamos con los dos dataset en un formato compatible para la comparación de las temperaturas máximas y mínimas promediadas mensualmente.\n",
    "\n",
    "El EDA que realizaremos a continuación, de todas maneras, estará centrado en el dataset 91-20 ya que es mucho más rico en información que el otro, al que sólo usaremos para dicha comparación. \n",
    "\n"
   ]
  },
  {
   "cell_type": "code",
   "execution_count": null,
   "id": "af03f347",
   "metadata": {},
   "outputs": [],
   "source": [
    "#Para finalizar renombramos ambos datasets para trabajar con ellos y reordenamos las columnas de df_91_20. \n",
    "df_91_20 = df_91_20_tidy\n",
    "\n",
    "nuevo_orden = ['Estación',                   #Variables de id      \n",
    "               'Mes',                               \n",
    "               'Precipitación',              #Variables climáticas\n",
    "               'Prec. > a 1.0 mm', \n",
    "               'Humedad relativa', \n",
    "               'Nubosidad total', \n",
    "               'Viento',              \n",
    "               'Temperatura',                #Variables de temperatura\n",
    "               'Temperatura Máx.',\n",
    "               'Temperatura Mín.',\n",
    "]\n",
    "\n",
    "df_91_20 = df_91_20_tidy[nuevo_orden]"
   ]
  },
  {
   "cell_type": "markdown",
   "id": "7d07eb9b",
   "metadata": {},
   "source": [
    "*Nota: entendemos que las mediciones de temperatura también son consideradas parte del clima, pero elegimos esta clasificación para diferenciar aquellas variables estrictamente ligadas a la temperatura de las demás.*"
   ]
  },
  {
   "cell_type": "markdown",
   "id": "9525123a",
   "metadata": {},
   "source": [
    "---\n",
    "\n",
    "## EDA"
   ]
  },
  {
   "cell_type": "markdown",
   "id": "b2da3297",
   "metadata": {},
   "source": [
    "#### Descripción del dataset 91-20\n",
    "Todas las variables son de tipo **numéricas continuas** salvo las dos primeras columnas que son **categóricas**.\n",
    "\n",
    "| Columna            | Descripción                                                                         |\n",
    "| -------------      | ------------------------------------------------------------------------------------|\n",
    "| `Estación`         | El nombre de la estación desde donde se tomaron los datos.                          |\n",
    "| `Mes`              | El mes al que corresponden las mediciones.                                          |\n",
    "| Mediciones         | ------------------------------------------------------------------------------------|\n",
    "| `Precipitación`    | La precipitación, en milímetros.                                                    | \n",
    "| `Prec. > a 1.0 mm` | Cantidad de días que llovió más de 1 milímetro.                                     |\n",
    "| `Humedad relativa` | La humedad relativa.                                                                | \n",
    "| `Nubosidad total`  | La nubosidad, expresada en octavos.                                                 | \n",
    "| `Viento`           | La velocidad del viento, en km/h.                                                   | \n",
    "| `Temperatura`      | La temperatura promedio, en °C.                                                     | \n",
    "| `Temperatura Máx.` | La temperatura máxima, en °C.                                                       | \n",
    "| `Temperatura Mín.` | La temperatura mínima, en °C.                                                       | "
   ]
  },
  {
   "cell_type": "markdown",
   "id": "d7eb87aa",
   "metadata": {},
   "source": [
    "**Ahora vemos la cantidad de entradas del dataset junto con una muestra del mismo.**\n"
   ]
  },
  {
   "cell_type": "code",
   "execution_count": 46,
   "id": "6416e06e",
   "metadata": {},
   "outputs": [
    {
     "name": "stdout",
     "output_type": "stream",
     "text": [
      "Cantidad de muestras:  1171\n",
      "Muestra: \n"
     ]
    },
    {
     "data": {
      "application/vnd.microsoft.datawrangler.viewer.v0+json": {
       "columns": [
        {
         "name": "index",
         "rawType": "int64",
         "type": "integer"
        },
        {
         "name": "Estación",
         "rawType": "object",
         "type": "string"
        },
        {
         "name": "Mes",
         "rawType": "object",
         "type": "string"
        },
        {
         "name": "Precipitación",
         "rawType": "object",
         "type": "unknown"
        },
        {
         "name": "Prec. > a 1.0 mm",
         "rawType": "object",
         "type": "unknown"
        },
        {
         "name": "Humedad relativa",
         "rawType": "object",
         "type": "unknown"
        },
        {
         "name": "Nubosidad total",
         "rawType": "object",
         "type": "unknown"
        },
        {
         "name": "Viento",
         "rawType": "object",
         "type": "unknown"
        },
        {
         "name": "Temperatura",
         "rawType": "object",
         "type": "unknown"
        },
        {
         "name": "Temperatura Máx.",
         "rawType": "object",
         "type": "unknown"
        },
        {
         "name": "Temperatura Mín.",
         "rawType": "object",
         "type": "unknown"
        }
       ],
       "ref": "d9238ee2-92f6-4b62-87e9-250ccc36b05a",
       "rows": [
        [
         "0",
         "AEROPARQUE AERO",
         "Abr",
         "108.3",
         "6.6",
         "73.6",
         "3.5",
         "13.9",
         "18.5",
         "22.0",
         "15.3"
        ],
        [
         "1",
         "AEROPARQUE AERO",
         "Ago",
         "61.5",
         "5.0",
         "73.6",
         "3.9",
         "14.0",
         "12.9",
         "16.5",
         "9.7"
        ],
        [
         "2",
         "AEROPARQUE AERO",
         "Dic",
         "112.8",
         "6.6",
         "65.1",
         "3.2",
         "15.9",
         "23.2",
         "27.4",
         "19.2"
        ],
        [
         "3",
         "AEROPARQUE AERO",
         "Ene",
         "117.5",
         "6.7",
         "67.0",
         "3.1",
         "16.8",
         "24.5",
         "28.4",
         "20.8"
        ],
        [
         "4",
         "AEROPARQUE AERO",
         "Feb",
         "112.3",
         "6.0",
         "69.8",
         "3.2",
         "15.8",
         "23.7",
         "27.3",
         "20.2"
        ],
        [
         "5",
         "AEROPARQUE AERO",
         "Jul",
         "64.3",
         "5.0",
         "75.5",
         "4.1",
         "13.2",
         "11.3",
         "14.4",
         "8.4"
        ],
        [
         "6",
         "AEROPARQUE AERO",
         "Jun",
         "54.6",
         "4.5",
         "76.3",
         "4.2",
         "12.2",
         "12.3",
         "15.5",
         "9.4"
        ],
        [
         "7",
         "AEROPARQUE AERO",
         "Mar",
         "111.8",
         "5.9",
         "71.3",
         "3.1",
         "14.9",
         "22.0",
         "25.5",
         "18.8"
        ],
        [
         "8",
         "AEROPARQUE AERO",
         "May",
         "83.3",
         "5.0",
         "76.4",
         "4.0",
         "12.9",
         "15.2",
         "18.4",
         "12.3"
        ],
        [
         "9",
         "AEROPARQUE AERO",
         "Nov",
         "103.2",
         "6.8",
         "67.0",
         "3.5",
         "17.1",
         "20.6",
         "24.5",
         "16.8"
        ]
       ],
       "shape": {
        "columns": 10,
        "rows": 10
       }
      },
      "text/html": [
       "<div>\n",
       "<style scoped>\n",
       "    .dataframe tbody tr th:only-of-type {\n",
       "        vertical-align: middle;\n",
       "    }\n",
       "\n",
       "    .dataframe tbody tr th {\n",
       "        vertical-align: top;\n",
       "    }\n",
       "\n",
       "    .dataframe thead th {\n",
       "        text-align: right;\n",
       "    }\n",
       "</style>\n",
       "<table border=\"1\" class=\"dataframe\">\n",
       "  <thead>\n",
       "    <tr style=\"text-align: right;\">\n",
       "      <th>Valor Medio de</th>\n",
       "      <th>Estación</th>\n",
       "      <th>Mes</th>\n",
       "      <th>Precipitación</th>\n",
       "      <th>Prec. &gt; a 1.0 mm</th>\n",
       "      <th>Humedad relativa</th>\n",
       "      <th>Nubosidad total</th>\n",
       "      <th>Viento</th>\n",
       "      <th>Temperatura</th>\n",
       "      <th>Temperatura Máx.</th>\n",
       "      <th>Temperatura Mín.</th>\n",
       "    </tr>\n",
       "  </thead>\n",
       "  <tbody>\n",
       "    <tr>\n",
       "      <th>0</th>\n",
       "      <td>AEROPARQUE AERO</td>\n",
       "      <td>Abr</td>\n",
       "      <td>108.3</td>\n",
       "      <td>6.6</td>\n",
       "      <td>73.6</td>\n",
       "      <td>3.5</td>\n",
       "      <td>13.9</td>\n",
       "      <td>18.5</td>\n",
       "      <td>22.0</td>\n",
       "      <td>15.3</td>\n",
       "    </tr>\n",
       "    <tr>\n",
       "      <th>1</th>\n",
       "      <td>AEROPARQUE AERO</td>\n",
       "      <td>Ago</td>\n",
       "      <td>61.5</td>\n",
       "      <td>5.0</td>\n",
       "      <td>73.6</td>\n",
       "      <td>3.9</td>\n",
       "      <td>14.0</td>\n",
       "      <td>12.9</td>\n",
       "      <td>16.5</td>\n",
       "      <td>9.7</td>\n",
       "    </tr>\n",
       "    <tr>\n",
       "      <th>2</th>\n",
       "      <td>AEROPARQUE AERO</td>\n",
       "      <td>Dic</td>\n",
       "      <td>112.8</td>\n",
       "      <td>6.6</td>\n",
       "      <td>65.1</td>\n",
       "      <td>3.2</td>\n",
       "      <td>15.9</td>\n",
       "      <td>23.2</td>\n",
       "      <td>27.4</td>\n",
       "      <td>19.2</td>\n",
       "    </tr>\n",
       "    <tr>\n",
       "      <th>3</th>\n",
       "      <td>AEROPARQUE AERO</td>\n",
       "      <td>Ene</td>\n",
       "      <td>117.5</td>\n",
       "      <td>6.7</td>\n",
       "      <td>67.0</td>\n",
       "      <td>3.1</td>\n",
       "      <td>16.8</td>\n",
       "      <td>24.5</td>\n",
       "      <td>28.4</td>\n",
       "      <td>20.8</td>\n",
       "    </tr>\n",
       "    <tr>\n",
       "      <th>4</th>\n",
       "      <td>AEROPARQUE AERO</td>\n",
       "      <td>Feb</td>\n",
       "      <td>112.3</td>\n",
       "      <td>6.0</td>\n",
       "      <td>69.8</td>\n",
       "      <td>3.2</td>\n",
       "      <td>15.8</td>\n",
       "      <td>23.7</td>\n",
       "      <td>27.3</td>\n",
       "      <td>20.2</td>\n",
       "    </tr>\n",
       "    <tr>\n",
       "      <th>5</th>\n",
       "      <td>AEROPARQUE AERO</td>\n",
       "      <td>Jul</td>\n",
       "      <td>64.3</td>\n",
       "      <td>5.0</td>\n",
       "      <td>75.5</td>\n",
       "      <td>4.1</td>\n",
       "      <td>13.2</td>\n",
       "      <td>11.3</td>\n",
       "      <td>14.4</td>\n",
       "      <td>8.4</td>\n",
       "    </tr>\n",
       "    <tr>\n",
       "      <th>6</th>\n",
       "      <td>AEROPARQUE AERO</td>\n",
       "      <td>Jun</td>\n",
       "      <td>54.6</td>\n",
       "      <td>4.5</td>\n",
       "      <td>76.3</td>\n",
       "      <td>4.2</td>\n",
       "      <td>12.2</td>\n",
       "      <td>12.3</td>\n",
       "      <td>15.5</td>\n",
       "      <td>9.4</td>\n",
       "    </tr>\n",
       "    <tr>\n",
       "      <th>7</th>\n",
       "      <td>AEROPARQUE AERO</td>\n",
       "      <td>Mar</td>\n",
       "      <td>111.8</td>\n",
       "      <td>5.9</td>\n",
       "      <td>71.3</td>\n",
       "      <td>3.1</td>\n",
       "      <td>14.9</td>\n",
       "      <td>22.0</td>\n",
       "      <td>25.5</td>\n",
       "      <td>18.8</td>\n",
       "    </tr>\n",
       "    <tr>\n",
       "      <th>8</th>\n",
       "      <td>AEROPARQUE AERO</td>\n",
       "      <td>May</td>\n",
       "      <td>83.3</td>\n",
       "      <td>5.0</td>\n",
       "      <td>76.4</td>\n",
       "      <td>4.0</td>\n",
       "      <td>12.9</td>\n",
       "      <td>15.2</td>\n",
       "      <td>18.4</td>\n",
       "      <td>12.3</td>\n",
       "    </tr>\n",
       "    <tr>\n",
       "      <th>9</th>\n",
       "      <td>AEROPARQUE AERO</td>\n",
       "      <td>Nov</td>\n",
       "      <td>103.2</td>\n",
       "      <td>6.8</td>\n",
       "      <td>67.0</td>\n",
       "      <td>3.5</td>\n",
       "      <td>17.1</td>\n",
       "      <td>20.6</td>\n",
       "      <td>24.5</td>\n",
       "      <td>16.8</td>\n",
       "    </tr>\n",
       "  </tbody>\n",
       "</table>\n",
       "</div>"
      ],
      "text/plain": [
       "Valor Medio de         Estación  Mes Precipitación Prec. > a 1.0 mm  \\\n",
       "0               AEROPARQUE AERO  Abr         108.3              6.6   \n",
       "1               AEROPARQUE AERO  Ago          61.5              5.0   \n",
       "2               AEROPARQUE AERO  Dic         112.8              6.6   \n",
       "3               AEROPARQUE AERO  Ene         117.5              6.7   \n",
       "4               AEROPARQUE AERO  Feb         112.3              6.0   \n",
       "5               AEROPARQUE AERO  Jul          64.3              5.0   \n",
       "6               AEROPARQUE AERO  Jun          54.6              4.5   \n",
       "7               AEROPARQUE AERO  Mar         111.8              5.9   \n",
       "8               AEROPARQUE AERO  May          83.3              5.0   \n",
       "9               AEROPARQUE AERO  Nov         103.2              6.8   \n",
       "\n",
       "Valor Medio de Humedad relativa Nubosidad total Viento Temperatura  \\\n",
       "0                          73.6             3.5   13.9        18.5   \n",
       "1                          73.6             3.9   14.0        12.9   \n",
       "2                          65.1             3.2   15.9        23.2   \n",
       "3                          67.0             3.1   16.8        24.5   \n",
       "4                          69.8             3.2   15.8        23.7   \n",
       "5                          75.5             4.1   13.2        11.3   \n",
       "6                          76.3             4.2   12.2        12.3   \n",
       "7                          71.3             3.1   14.9        22.0   \n",
       "8                          76.4             4.0   12.9        15.2   \n",
       "9                          67.0             3.5   17.1        20.6   \n",
       "\n",
       "Valor Medio de Temperatura Máx. Temperatura Mín.  \n",
       "0                          22.0             15.3  \n",
       "1                          16.5              9.7  \n",
       "2                          27.4             19.2  \n",
       "3                          28.4             20.8  \n",
       "4                          27.3             20.2  \n",
       "5                          14.4              8.4  \n",
       "6                          15.5              9.4  \n",
       "7                          25.5             18.8  \n",
       "8                          18.4             12.3  \n",
       "9                          24.5             16.8  "
      ]
     },
     "execution_count": 46,
     "metadata": {},
     "output_type": "execute_result"
    }
   ],
   "source": [
    "# Ahora vemos la cantidad de entradas del dataset.\n",
    "print(\"Cantidad de muestras: \", df_91_20.shape[0])\n",
    "print(\"Muestra: \")\n",
    "df_91_20.head(10)\n"
   ]
  },
  {
   "cell_type": "markdown",
   "id": "5de35797",
   "metadata": {},
   "source": [
    "**Ajustamos los tipos de datos de las columnas numéricas que en este momento siguen siendo de tipo *object***."
   ]
  },
  {
   "cell_type": "code",
   "execution_count": 47,
   "id": "83635002",
   "metadata": {},
   "outputs": [
    {
     "name": "stdout",
     "output_type": "stream",
     "text": [
      "<class 'pandas.core.frame.DataFrame'>\n",
      "RangeIndex: 1171 entries, 0 to 1170\n",
      "Data columns (total 10 columns):\n",
      " #   Column            Non-Null Count  Dtype  \n",
      "---  ------            --------------  -----  \n",
      " 0   Estación          1171 non-null   object \n",
      " 1   Mes               1171 non-null   object \n",
      " 2   Precipitación     1061 non-null   float64\n",
      " 3   Prec. > a 1.0 mm  1061 non-null   float64\n",
      " 4   Humedad relativa  1110 non-null   float64\n",
      " 5   Nubosidad total   1166 non-null   float64\n",
      " 6   Viento            708 non-null    float64\n",
      " 7   Temperatura       1167 non-null   float64\n",
      " 8   Temperatura Máx.  1158 non-null   float64\n",
      " 9   Temperatura Mín.  1124 non-null   float64\n",
      "dtypes: float64(8), object(2)\n",
      "memory usage: 91.6+ KB\n"
     ]
    }
   ],
   "source": [
    "df_91_20['Precipitación'] = df_91_20['Precipitación'].astype('float64')\n",
    "df_91_20['Prec. > a 1.0 mm'] = df_91_20['Prec. > a 1.0 mm'].astype('float64')\n",
    "df_91_20['Humedad relativa'] = df_91_20['Humedad relativa'].astype('float64')\n",
    "df_91_20['Nubosidad total'] = df_91_20['Nubosidad total'].astype('float64')\n",
    "df_91_20['Viento'] = df_91_20['Viento'].astype('float64')\n",
    "df_91_20['Temperatura'] = df_91_20['Temperatura'].astype('float64')\n",
    "df_91_20['Temperatura Máx.'] = df_91_20['Temperatura Máx.'].astype('float64')\n",
    "df_91_20['Temperatura Mín.'] = df_91_20['Temperatura Mín.'].astype('float64')\n",
    "\n",
    "df_91_20.info()"
   ]
  },
  {
   "cell_type": "markdown",
   "id": "66f89f7f",
   "metadata": {},
   "source": [
    "---\n",
    "\n",
    "## Exploración de las variables categóricas\n",
    "\n",
    "**Variable 'Estaciones':** \n",
    "\n",
    "Como ya hemos dicho antes esta variable tiene 98 valores únicos cada uno correspondiente a una estación desde donde se registraron los datos del dataset. Para nosotros esta variable no reviste mucho interés porque no se puede extraer demasiado significado de ella, sería interesante por ejemplo, que las estaciones estuvieran agrupadas por provincia o región del país para poder sacar conclusiones más significativas pero lamentablemente no es el caso. \n",
    "\n",
    "**Variable 'Meses':**\n",
    "\n",
    "Esta variable es simplemente una variable categórica que representa los meses del año y se puede utilizar para hacer análisis interesantes y sacar conclusiones sobre cómo varían las diferentes facetas del clima en función de ellos y de las estaciones del año.\n",
    "\n",
    "Dado que ambas variables funcionan como Id no tienen valores faltantes."
   ]
  },
  {
   "cell_type": "code",
   "execution_count": 54,
   "id": "c53fd82b",
   "metadata": {},
   "outputs": [
    {
     "name": "stdout",
     "output_type": "stream",
     "text": [
      "0\n",
      "0\n"
     ]
    }
   ],
   "source": [
    "print(df_91_20[\"Estación\"].isna().sum())\n",
    "print(df_91_20[\"Mes\"].isna().sum())"
   ]
  },
  {
   "cell_type": "markdown",
   "id": "0758a70a",
   "metadata": {},
   "source": [
    "---\n",
    "\n",
    "## Exploración de las variables numéricas\n",
    "\n",
    "Primero realizamos una descripción general de las mismas.\n",
    "\n"
   ]
  },
  {
   "cell_type": "code",
   "execution_count": 48,
   "id": "ad2208a4",
   "metadata": {},
   "outputs": [
    {
     "data": {
      "application/vnd.microsoft.datawrangler.viewer.v0+json": {
       "columns": [
        {
         "name": "index",
         "rawType": "object",
         "type": "string"
        },
        {
         "name": "Precipitación",
         "rawType": "float64",
         "type": "float"
        },
        {
         "name": "Prec. > a 1.0 mm",
         "rawType": "float64",
         "type": "float"
        },
        {
         "name": "Humedad relativa",
         "rawType": "float64",
         "type": "float"
        },
        {
         "name": "Nubosidad total",
         "rawType": "float64",
         "type": "float"
        },
        {
         "name": "Viento",
         "rawType": "float64",
         "type": "float"
        },
        {
         "name": "Temperatura",
         "rawType": "float64",
         "type": "float"
        },
        {
         "name": "Temperatura Máx.",
         "rawType": "float64",
         "type": "float"
        },
        {
         "name": "Temperatura Mín.",
         "rawType": "float64",
         "type": "float"
        }
       ],
       "ref": "b6e6579e-7f2b-4b8b-80aa-46ee9ae98774",
       "rows": [
        [
         "count",
         "1061.0",
         "1061.0",
         "1110.0",
         "1166.0",
         "708.0",
         "1167.0",
         "1158.0",
         "1124.0"
        ],
        [
         "mean",
         "68.2348727615457",
         "5.097455230914233",
         "68.00540540540541",
         "3.840137221269297",
         "13.011581920903955",
         "14.834190231362468",
         "21.22383419689119",
         "9.10284697508897"
        ],
        [
         "std",
         "51.674519009069655",
         "2.5365857176422537",
         "11.027474810314729",
         "0.8882840563947704",
         "5.55404016309819",
         "8.178787240709319",
         "8.938676229539277",
         "7.77874303333769"
        ],
        [
         "min",
         "0.0",
         "0.0",
         "25.7",
         "1.3",
         "3.9",
         "-20.9",
         "-17.5",
         "-25.0"
        ],
        [
         "25%",
         "23.3",
         "3.1",
         "61.324999999999996",
         "3.3",
         "9.2",
         "10.3",
         "17.025",
         "4.5"
        ],
        [
         "50%",
         "58.9",
         "5.2",
         "70.1",
         "3.7",
         "11.8",
         "15.7",
         "22.4",
         "9.9"
        ],
        [
         "75%",
         "106.5",
         "7.0",
         "76.4",
         "4.2",
         "15.9",
         "21.2",
         "27.9",
         "15.1"
        ],
        [
         "max",
         "277.9",
         "13.8",
         "90.2",
         "7.5",
         "36.5",
         "28.3",
         "35.5",
         "22.5"
        ]
       ],
       "shape": {
        "columns": 8,
        "rows": 8
       }
      },
      "text/html": [
       "<div>\n",
       "<style scoped>\n",
       "    .dataframe tbody tr th:only-of-type {\n",
       "        vertical-align: middle;\n",
       "    }\n",
       "\n",
       "    .dataframe tbody tr th {\n",
       "        vertical-align: top;\n",
       "    }\n",
       "\n",
       "    .dataframe thead th {\n",
       "        text-align: right;\n",
       "    }\n",
       "</style>\n",
       "<table border=\"1\" class=\"dataframe\">\n",
       "  <thead>\n",
       "    <tr style=\"text-align: right;\">\n",
       "      <th>Valor Medio de</th>\n",
       "      <th>Precipitación</th>\n",
       "      <th>Prec. &gt; a 1.0 mm</th>\n",
       "      <th>Humedad relativa</th>\n",
       "      <th>Nubosidad total</th>\n",
       "      <th>Viento</th>\n",
       "      <th>Temperatura</th>\n",
       "      <th>Temperatura Máx.</th>\n",
       "      <th>Temperatura Mín.</th>\n",
       "    </tr>\n",
       "  </thead>\n",
       "  <tbody>\n",
       "    <tr>\n",
       "      <th>count</th>\n",
       "      <td>1061.000000</td>\n",
       "      <td>1061.000000</td>\n",
       "      <td>1110.000000</td>\n",
       "      <td>1166.000000</td>\n",
       "      <td>708.000000</td>\n",
       "      <td>1167.000000</td>\n",
       "      <td>1158.000000</td>\n",
       "      <td>1124.000000</td>\n",
       "    </tr>\n",
       "    <tr>\n",
       "      <th>mean</th>\n",
       "      <td>68.234873</td>\n",
       "      <td>5.097455</td>\n",
       "      <td>68.005405</td>\n",
       "      <td>3.840137</td>\n",
       "      <td>13.011582</td>\n",
       "      <td>14.834190</td>\n",
       "      <td>21.223834</td>\n",
       "      <td>9.102847</td>\n",
       "    </tr>\n",
       "    <tr>\n",
       "      <th>std</th>\n",
       "      <td>51.674519</td>\n",
       "      <td>2.536586</td>\n",
       "      <td>11.027475</td>\n",
       "      <td>0.888284</td>\n",
       "      <td>5.554040</td>\n",
       "      <td>8.178787</td>\n",
       "      <td>8.938676</td>\n",
       "      <td>7.778743</td>\n",
       "    </tr>\n",
       "    <tr>\n",
       "      <th>min</th>\n",
       "      <td>0.000000</td>\n",
       "      <td>0.000000</td>\n",
       "      <td>25.700000</td>\n",
       "      <td>1.300000</td>\n",
       "      <td>3.900000</td>\n",
       "      <td>-20.900000</td>\n",
       "      <td>-17.500000</td>\n",
       "      <td>-25.000000</td>\n",
       "    </tr>\n",
       "    <tr>\n",
       "      <th>25%</th>\n",
       "      <td>23.300000</td>\n",
       "      <td>3.100000</td>\n",
       "      <td>61.325000</td>\n",
       "      <td>3.300000</td>\n",
       "      <td>9.200000</td>\n",
       "      <td>10.300000</td>\n",
       "      <td>17.025000</td>\n",
       "      <td>4.500000</td>\n",
       "    </tr>\n",
       "    <tr>\n",
       "      <th>50%</th>\n",
       "      <td>58.900000</td>\n",
       "      <td>5.200000</td>\n",
       "      <td>70.100000</td>\n",
       "      <td>3.700000</td>\n",
       "      <td>11.800000</td>\n",
       "      <td>15.700000</td>\n",
       "      <td>22.400000</td>\n",
       "      <td>9.900000</td>\n",
       "    </tr>\n",
       "    <tr>\n",
       "      <th>75%</th>\n",
       "      <td>106.500000</td>\n",
       "      <td>7.000000</td>\n",
       "      <td>76.400000</td>\n",
       "      <td>4.200000</td>\n",
       "      <td>15.900000</td>\n",
       "      <td>21.200000</td>\n",
       "      <td>27.900000</td>\n",
       "      <td>15.100000</td>\n",
       "    </tr>\n",
       "    <tr>\n",
       "      <th>max</th>\n",
       "      <td>277.900000</td>\n",
       "      <td>13.800000</td>\n",
       "      <td>90.200000</td>\n",
       "      <td>7.500000</td>\n",
       "      <td>36.500000</td>\n",
       "      <td>28.300000</td>\n",
       "      <td>35.500000</td>\n",
       "      <td>22.500000</td>\n",
       "    </tr>\n",
       "  </tbody>\n",
       "</table>\n",
       "</div>"
      ],
      "text/plain": [
       "Valor Medio de  Precipitación  Prec. > a 1.0 mm  Humedad relativa  \\\n",
       "count             1061.000000       1061.000000       1110.000000   \n",
       "mean                68.234873          5.097455         68.005405   \n",
       "std                 51.674519          2.536586         11.027475   \n",
       "min                  0.000000          0.000000         25.700000   \n",
       "25%                 23.300000          3.100000         61.325000   \n",
       "50%                 58.900000          5.200000         70.100000   \n",
       "75%                106.500000          7.000000         76.400000   \n",
       "max                277.900000         13.800000         90.200000   \n",
       "\n",
       "Valor Medio de  Nubosidad total      Viento  Temperatura  Temperatura Máx.  \\\n",
       "count               1166.000000  708.000000  1167.000000       1158.000000   \n",
       "mean                   3.840137   13.011582    14.834190         21.223834   \n",
       "std                    0.888284    5.554040     8.178787          8.938676   \n",
       "min                    1.300000    3.900000   -20.900000        -17.500000   \n",
       "25%                    3.300000    9.200000    10.300000         17.025000   \n",
       "50%                    3.700000   11.800000    15.700000         22.400000   \n",
       "75%                    4.200000   15.900000    21.200000         27.900000   \n",
       "max                    7.500000   36.500000    28.300000         35.500000   \n",
       "\n",
       "Valor Medio de  Temperatura Mín.  \n",
       "count                1124.000000  \n",
       "mean                    9.102847  \n",
       "std                     7.778743  \n",
       "min                   -25.000000  \n",
       "25%                     4.500000  \n",
       "50%                     9.900000  \n",
       "75%                    15.100000  \n",
       "max                    22.500000  "
      ]
     },
     "execution_count": 48,
     "metadata": {},
     "output_type": "execute_result"
    }
   ],
   "source": [
    "df_91_20.describe()"
   ]
  },
  {
   "cell_type": "markdown",
   "id": "e37637fc",
   "metadata": {},
   "source": [
    "\n",
    "A simple vista se puede ver que la variable **viento** tiene una gran cantidad de valores nulos."
   ]
  },
  {
   "cell_type": "code",
   "execution_count": 61,
   "id": "ffef80d3",
   "metadata": {},
   "outputs": [
    {
     "name": "stdout",
     "output_type": "stream",
     "text": [
      "Porcentaje de datos faltantes en la columna viento:  39.54 %\n"
     ]
    }
   ],
   "source": [
    "\n",
    "print(\"Porcentaje de datos faltantes en la columna viento: \", (df_91_20[\"Viento\"].isna().sum()*100/df_91_20.shape[0]).__round__(2), \"%\")"
   ]
  },
  {
   "cell_type": "markdown",
   "id": "f9298cc2",
   "metadata": {},
   "source": [
    "El porcentaje de entradas que no tienen un valor de viento es del 39%.Tenemos la sospecha de que esto pueda deberse a que haya estaciones donde directamente no se haya realizado esa medición, y no porque las mediciones hayan sido erráticas, verifiquemos:"
   ]
  },
  {
   "cell_type": "code",
   "execution_count": 76,
   "id": "12ca4c8f",
   "metadata": {},
   "outputs": [
    {
     "name": "stdout",
     "output_type": "stream",
     "text": [
      "Porcentaje de estaciones que no midieron el viento: 39.8 %\n"
     ]
    }
   ],
   "source": [
    "# Filtramos las estaciones que tienen datos de viento.\n",
    "estaciones_con_viento = df_91_20[df_91_20[\"Viento\"].notnull()][\"Estación\"].unique()\n",
    "\n",
    "# Contamos el porcentaje de estaciones que tienen datos de viento.\n",
    "porcentaje_estaciones_con_viento = (len(estaciones_con_viento) / df_91_20[\"Estación\"].nunique()) * 100\n",
    "\n",
    "print(\"Porcentaje de estaciones que no midieron el viento:\", 100 - porcentaje_estaciones_con_viento.__round__(2), \"%\")"
   ]
  },
  {
   "cell_type": "markdown",
   "id": "7f5f8167",
   "metadata": {},
   "source": [
    "Dado que el porcentaje de estaciones que no midieron el viento coincide casi a la perfección con el porcentaje de datos faltantes en esa columna podemos aventurarnos a asegurar que la falta de esos datos se debe a esa razón. Elegimos representar esto con una flag que indique si el viento fue medido o no. \n",
    "\n",
    "Lamentablemente la cantidad de faltantes es muy elevada como para realizar una imputación."
   ]
  },
  {
   "cell_type": "code",
   "execution_count": 77,
   "id": "781cce72",
   "metadata": {},
   "outputs": [],
   "source": [
    "df_91_20[\"Viento_medido\"] = df_91_20[\"Viento\"].notnull()"
   ]
  },
  {
   "cell_type": "markdown",
   "id": "5debc091",
   "metadata": {},
   "source": [
    "Otras variables que llamaron nuestra atención son **precipitación** y **prec. > a 1.0 mm**, ambas tienen también una cantidad considerable de datos faltantes:"
   ]
  },
  {
   "cell_type": "code",
   "execution_count": 87,
   "id": "9da1aa12",
   "metadata": {},
   "outputs": [
    {
     "name": "stdout",
     "output_type": "stream",
     "text": [
      "Porcentaje de datos faltantes en la columna precipitación:  9.39 %\n"
     ]
    }
   ],
   "source": [
    "print(\"Porcentaje de datos faltantes en la columna precipitación: \", (df_91_20[\"Precipitación\"].isna().sum()*100/df_91_20.shape[0]).__round__(2), \"%\")"
   ]
  },
  {
   "cell_type": "markdown",
   "id": "4925f305",
   "metadata": {},
   "source": [
    "Dado que ambas columnas tienen la misma cantidad de datos, ese 9.39% de datos faltantes pertenece a ambas. Resolvimos imputar estas variables... Trabajando acá."
   ]
  },
  {
   "cell_type": "markdown",
   "id": "3f97cfe9",
   "metadata": {},
   "source": [
    "---\n",
    "\n",
    "### Exploración de las variables climáticas (no temperatura)"
   ]
  },
  {
   "cell_type": "markdown",
   "id": "09e89dae",
   "metadata": {},
   "source": [
    "Lo siguiente más bien podría ser para contestar alguna pregutnta sobre le distribución de las lluvias en cada mes en vez de ser parte del EDA."
   ]
  },
  {
   "cell_type": "markdown",
   "id": "df5ff1e8",
   "metadata": {},
   "source": [
    "**Promedios mensuales:**"
   ]
  },
  {
   "cell_type": "code",
   "execution_count": 89,
   "id": "5393bf6f",
   "metadata": {},
   "outputs": [
    {
     "data": {
      "image/png": "[encoded data removed]",
      "text/plain": [
       "<Figure size 1000x500 with 2 Axes>"
      ]
     },
     "metadata": {},
     "output_type": "display_data"
    }
   ],
   "source": [
    "# Queremos ver un gráfico que represente el promedio de precipitaciones por mes entre 1991 y 2020 \n",
    "# junto con la cantidad de días con mediciones mayores a 1mm.\n",
    "\n",
    "# Para eso primero sacamos el promedio para cada mes. \n",
    "df_prom_mensual_precipitacion = df_91_20.groupby('Mes')['Precipitación'].mean()\n",
    "df_prom_mensual_prec_gt_1mm = df_91_20.groupby('Mes')[\"Prec. > a 1.0 mm\"].mean()\n",
    "\n",
    "# Reodrenamos los dataset\n",
    "meses_orden = ['Ene', 'Feb', 'Mar', 'Abr', 'May', 'Jun', \n",
    "               'Jul', 'Ago', 'Sep', 'Oct', 'Nov', 'Dic']\n",
    "df_prom_mensual_ordenado = df_prom_mensual_precipitacion.reindex(meses_orden)\n",
    "df_prec_gt1_ordenado = df_prom_mensual_prec_gt_1mm.reindex(meses_orden)\n",
    "\n",
    "\n",
    "# Gráficamos\n",
    "fig, ax1 = plt.subplots(figsize=(10, 5))\n",
    "\n",
    "# Barras: Precipitación\n",
    "ax1.bar(df_prom_mensual_ordenado.index, df_prom_mensual_ordenado.values, color='skyblue', edgecolor='black', label='Precipitación (mm)')\n",
    "ax1.set_xlabel('Mes')\n",
    "ax1.set_ylabel('Precipitación (mm)', color='skyblue')\n",
    "ax1.tick_params(axis='y', labelcolor='skyblue')\n",
    "\n",
    "# Línea de Prec. > 1.0 mm\n",
    "ax2 = ax1.twinx()\n",
    "ax2.plot(df_prec_gt1_ordenado.index, df_prec_gt1_ordenado.values, color='orange', marker='o', label='Prec. > 1.0 mm')\n",
    "ax2.set_ylabel('Días con Prec. > 1.0 mm', color='orange')\n",
    "ax2.tick_params(axis='y', labelcolor='orange')\n",
    "\n",
    "plt.title('Promedio mensual de precipitaciones y días con Prec. > 1.0 mm')\n",
    "fig.tight_layout()\n",
    "plt.show()"
   ]
  },
  {
   "cell_type": "code",
   "execution_count": null,
   "id": "47fb9185",
   "metadata": {},
   "outputs": [],
   "source": [
    "intensidad_media = precipitación_total / días_con_prec_gt_1mm"
   ]
  }
 ],
 "metadata": {
  "kernelspec": {
   "display_name": "add-env",
   "language": "python",
   "name": "python3"
  },
  "language_info": {
   "codemirror_mode": {
    "name": "ipython",
    "version": 3
   },
   "file_extension": ".py",
   "mimetype": "text/x-python",
   "name": "python",
   "nbconvert_exporter": "python",
   "pygments_lexer": "ipython3",
   "version": "3.11.12"
  }
 },
 "nbformat": 4,
 "nbformat_minor": 5
}
